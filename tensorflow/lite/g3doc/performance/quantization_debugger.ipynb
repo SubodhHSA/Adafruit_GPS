{
  "cells": [
    {
      "cell_type": "markdown",
      "metadata": {
        "id": "KimMZUVqcJ8_"
      },
      "source": [
        "##### Copyright 2024 The AI Edge Authors."
      ]
    },
    {
      "cell_type": "code",
      "execution_count": null,
      "metadata": {
        "id": "BRQ6HQ8zcV5v"
      },
      "outputs": [],
      "source": [
        "#@title Licensed under the Apache License, Version 2.0 (the \"License\");\n",
        "# you may not use this file except in compliance with the License.\n",
        "# You may obtain a copy of the License at\n",
        "#\n",
        "# https://www.apache.org/licenses/LICENSE-2.0\n",
        "#\n",
        "# Unless required by applicable law or agreed to in writing, software\n",
        "# distributed under the License is distributed on an \"AS IS\" BASIS,\n",
        "# WITHOUT WARRANTIES OR CONDITIONS OF ANY KIND, either express or implied.\n",
        "# See the License for the specific language governing permissions and\n",
        "# limitations under the License."
      ]
    },
    {
      "cell_type": "markdown",
      "metadata": {
        "id": "BlWzg1D9_EhW"
      },
      "source": [
        "# Inspecting Quantization Errors with Quantization Debugger"
      ]
    },
    {
      "cell_type": "markdown",
      "metadata": {
        "id": "XLoHL19yb-a0"
      },
      "source": [
        "<table class=\"tfo-notebook-buttons\" align=\"left\">\n",
        "  <td>\n",
        "    <a target=\"_blank\" href=\"https://www.tensorflow.org/lite/performance/quantization_debugger\"><img src=\"https://www.tensorflow.org/images/tf_logo_32px.png\" />View on TensorFlow.org</a>\n",
        "  </td>\n",
        "  <td>\n",
        "    <a target=\"_blank\" href=\"https://colab.research.google.com/github/tensorflow/tensorflow/blob/master/tensorflow/lite/g3doc/performance/quantization_debugger.ipynb\"><img src=\"https://www.tensorflow.org/images/colab_logo_32px.png\" />Run in Google Colab</a>\n",
        "  </td>\n",
        "  <td>\n",
        "    <a target=\"_blank\" href=\"https://github.com/tensorflow/tensorflow/blob/master/tensorflow/lite/g3doc/performance/quantization_debugger.ipynb\"><img src=\"https://www.tensorflow.org/images/GitHub-Mark-32px.png\" />View source on GitHub</a>\n",
        "  </td>\n",
        "  <td>\n",
        "    <a href=\"https://storage.googleapis.com/tensorflow_docs/tensorflow/tensorflow/lite/g3doc/performance/quantization_debugger.ipynb\"><img src=\"https://www.tensorflow.org/images/download_logo_32px.png\" />Download notebook</a>\n",
        "  </td>\n",
        "  <td>\n",
        "    <a href=\"https://tfhub.dev/google/imagenet/mobilenet_v3_small_100_224/classification/5\"><img src=\"https://www.tensorflow.org/images/hub_logo_32px.png\" />See TF Hub model</a>\n",
        "  </td>\n",
        "</table>"
      ]
    },
    {
      "cell_type": "markdown",
      "metadata": {
        "id": "MWO_yYDGcGWY"
      },
      "source": [
        "Although full-integer quantization provides improved model size and latency, the\n",
        "quantized model won't always work as expected. It's usually expected for the\n",
        "model quality (e.g. accuracy, mAP, WER) to be slightly lower than the original\n",
        "float model. However, there are cases where the model quality can go below your\n",
        "expectation or generated completely wrong results.\n",
        "\n",
        "When this problem happens, it's tricky and painful to spot the root cause of the\n",
        "quantization error, and it's even more difficult to fix the quantization error.\n",
        "To assist this model inspection process, **quantization debugger** can be used\n",
        "to identify problematic layers, and **selective quantization** can leave those\n",
        "problematic layers in float so that the model accuracy can be recovered at the\n",
        "cost of reduced benefit from quantization.\n",
        "\n",
        "Note: This API is experimental, and there might be breaking changes in the API\n",
        "in the course of improvements."
      ]
    },
    {
      "cell_type": "markdown",
      "metadata": {
        "id": "9kD29R1I_Mn6"
      },
      "source": [
        "## Quantization Debugger\n",
        "\n",
        "Quantization debugger makes it possible to do quantization quality metric\n",
        "analysis in the existing model. Quantization debugger can automate processes for\n",
        "running model with a debug dataset, and collecting quantization quality metrics\n",
        "for each tensors.\n",
        "\n",
        "Note: Quantization debugger and selective quantization currently only works for\n",
        "full-integer quantization with int8 activations."
      ]
    },
    {
      "cell_type": "markdown",
      "metadata": {
        "id": "221Qon7G_PmZ"
      },
      "source": [
        "### Prerequisites\n",
        "\n",
        "If you already have a pipeline to quantize a model, you have all necessary\n",
        "pieces to run quantization debugger!\n",
        "\n",
        "*   Model to quantize\n",
        "*   Representative dataset\n",
        "\n",
        "In addition to model and data, you will need to use a data processing framework\n",
        "(e.g. pandas, Google Sheets) to analyze the exported results."
      ]
    },
    {
      "cell_type": "markdown",
      "metadata": {
        "id": "qTEEzJWo_iZ_"
      },
      "source": [
        "### Setup\n",
        "\n",
        "This section prepares libraries, MobileNet v3 model, and test dataset of 100\n",
        "images."
      ]
    },
    {
      "cell_type": "code",
      "source": [
        "!pip uninstall -y tensorflow tf-nightly tensorflow-datasets tensorflow_hub keras tf_keras\n",
        "!pip install tensorflow==2.10.0 tensorflow-hub==0.13.0 tensorflow-datasets keras"
      ],
      "metadata": {
        "colab": {
          "base_uri": "https://localhost:8080/",
          "height": 1000
        },
        "id": "Jx_4iOCrw7MP",
        "outputId": "3353b050-639f-479a-ce79-1e2d7c31517a"
      },
      "execution_count": 15,
      "outputs": [
        {
          "output_type": "stream",
          "name": "stdout",
          "text": [
            "Found existing installation: tensorflow 2.10.0\n",
            "Uninstalling tensorflow-2.10.0:\n",
            "  Successfully uninstalled tensorflow-2.10.0\n",
            "\u001b[33mWARNING: Skipping tf-nightly as it is not installed.\u001b[0m\u001b[33m\n",
            "\u001b[0mFound existing installation: tensorflow-datasets 4.9.0\n",
            "Uninstalling tensorflow-datasets-4.9.0:\n",
            "  Successfully uninstalled tensorflow-datasets-4.9.0\n",
            "Found existing installation: tensorflow-hub 0.13.0\n",
            "Uninstalling tensorflow-hub-0.13.0:\n",
            "  Successfully uninstalled tensorflow-hub-0.13.0\n",
            "Found existing installation: keras 2.10.0\n",
            "Uninstalling keras-2.10.0:\n",
            "  Successfully uninstalled keras-2.10.0\n",
            "\u001b[33mWARNING: Skipping tf_keras as it is not installed.\u001b[0m\u001b[33m\n",
            "\u001b[0mCollecting tensorflow==2.10.0\n",
            "  Using cached tensorflow-2.10.0-cp310-cp310-manylinux_2_17_x86_64.manylinux2014_x86_64.whl.metadata (3.1 kB)\n",
            "Collecting tensorflow-hub==0.13.0\n",
            "  Using cached tensorflow_hub-0.13.0-py2.py3-none-any.whl.metadata (1.7 kB)\n",
            "Collecting tensorflow-datasets\n",
            "  Using cached tensorflow_datasets-4.9.7-py3-none-any.whl.metadata (9.6 kB)\n",
            "Collecting keras\n",
            "  Using cached keras-3.7.0-py3-none-any.whl.metadata (5.8 kB)\n",
            "Requirement already satisfied: absl-py>=1.0.0 in /usr/local/lib/python3.10/dist-packages (from tensorflow==2.10.0) (1.4.0)\n",
            "Requirement already satisfied: astunparse>=1.6.0 in /usr/local/lib/python3.10/dist-packages (from tensorflow==2.10.0) (1.6.3)\n",
            "Requirement already satisfied: flatbuffers>=2.0 in /usr/local/lib/python3.10/dist-packages (from tensorflow==2.10.0) (24.3.25)\n",
            "Requirement already satisfied: gast<=0.4.0,>=0.2.1 in /usr/local/lib/python3.10/dist-packages (from tensorflow==2.10.0) (0.4.0)\n",
            "Requirement already satisfied: google-pasta>=0.1.1 in /usr/local/lib/python3.10/dist-packages (from tensorflow==2.10.0) (0.2.0)\n",
            "Requirement already satisfied: grpcio<2.0,>=1.24.3 in /usr/local/lib/python3.10/dist-packages (from tensorflow==2.10.0) (1.68.1)\n",
            "Requirement already satisfied: h5py>=2.9.0 in /usr/local/lib/python3.10/dist-packages (from tensorflow==2.10.0) (3.12.1)\n",
            "  Using cached keras-2.10.0-py2.py3-none-any.whl.metadata (1.3 kB)\n",
            "Requirement already satisfied: keras-preprocessing>=1.1.1 in /usr/local/lib/python3.10/dist-packages (from tensorflow==2.10.0) (1.1.2)\n",
            "Requirement already satisfied: libclang>=13.0.0 in /usr/local/lib/python3.10/dist-packages (from tensorflow==2.10.0) (18.1.1)\n",
            "Requirement already satisfied: numpy>=1.20 in /usr/local/lib/python3.10/dist-packages (from tensorflow==2.10.0) (1.26.4)\n",
            "Requirement already satisfied: opt-einsum>=2.3.2 in /usr/local/lib/python3.10/dist-packages (from tensorflow==2.10.0) (3.4.0)\n",
            "Requirement already satisfied: packaging in /usr/local/lib/python3.10/dist-packages (from tensorflow==2.10.0) (24.2)\n",
            "Requirement already satisfied: protobuf<3.20,>=3.9.2 in /usr/local/lib/python3.10/dist-packages (from tensorflow==2.10.0) (3.19.6)\n",
            "Requirement already satisfied: setuptools in /usr/local/lib/python3.10/dist-packages (from tensorflow==2.10.0) (75.1.0)\n",
            "Requirement already satisfied: six>=1.12.0 in /usr/local/lib/python3.10/dist-packages (from tensorflow==2.10.0) (1.17.0)\n",
            "Requirement already satisfied: tensorboard<2.11,>=2.10 in /usr/local/lib/python3.10/dist-packages (from tensorflow==2.10.0) (2.10.1)\n",
            "Requirement already satisfied: tensorflow-io-gcs-filesystem>=0.23.1 in /usr/local/lib/python3.10/dist-packages (from tensorflow==2.10.0) (0.37.1)\n",
            "Requirement already satisfied: tensorflow-estimator<2.11,>=2.10.0 in /usr/local/lib/python3.10/dist-packages (from tensorflow==2.10.0) (2.10.0)\n",
            "Requirement already satisfied: termcolor>=1.1.0 in /usr/local/lib/python3.10/dist-packages (from tensorflow==2.10.0) (2.5.0)\n",
            "Requirement already satisfied: typing-extensions>=3.6.6 in /usr/local/lib/python3.10/dist-packages (from tensorflow==2.10.0) (4.12.2)\n",
            "Requirement already satisfied: wrapt>=1.11.0 in /usr/local/lib/python3.10/dist-packages (from tensorflow==2.10.0) (1.14.1)\n",
            "Requirement already satisfied: click in /usr/local/lib/python3.10/dist-packages (from tensorflow-datasets) (8.1.7)\n",
            "Requirement already satisfied: dm-tree in /usr/local/lib/python3.10/dist-packages (from tensorflow-datasets) (0.1.8)\n",
            "Requirement already satisfied: immutabledict in /usr/local/lib/python3.10/dist-packages (from tensorflow-datasets) (4.2.1)\n",
            "Requirement already satisfied: promise in /usr/local/lib/python3.10/dist-packages (from tensorflow-datasets) (2.3)\n",
            "INFO: pip is looking at multiple versions of tensorflow-datasets to determine which version is compatible with other requirements. This could take a while.\n",
            "Collecting tensorflow-datasets\n",
            "  Using cached tensorflow_datasets-4.9.6-py3-none-any.whl.metadata (9.5 kB)\n",
            "  Using cached tensorflow_datasets-4.9.5-py3-none-any.whl.metadata (9.3 kB)\n",
            "Requirement already satisfied: etils>=1.6.0 in /usr/local/lib/python3.10/dist-packages (from etils[enp,epath,epy,etree]>=1.6.0->tensorflow-datasets) (1.11.0)\n",
            "  Using cached tensorflow_datasets-4.9.4-py3-none-any.whl.metadata (9.2 kB)\n",
            "  Using cached tensorflow_datasets-4.9.3-py3-none-any.whl.metadata (9.3 kB)\n",
            "Requirement already satisfied: array-record in /usr/local/lib/python3.10/dist-packages (from tensorflow-datasets) (0.5.1)\n",
            "  Using cached tensorflow_datasets-4.9.2-py3-none-any.whl.metadata (9.0 kB)\n",
            "  Using cached tensorflow_datasets-4.9.1-py3-none-any.whl.metadata (9.0 kB)\n",
            "  Using cached tensorflow_datasets-4.9.0-py3-none-any.whl.metadata (9.0 kB)\n",
            "Requirement already satisfied: psutil in /usr/local/lib/python3.10/dist-packages (from tensorflow-datasets) (5.9.5)\n",
            "Requirement already satisfied: requests>=2.19.0 in /usr/local/lib/python3.10/dist-packages (from tensorflow-datasets) (2.32.3)\n",
            "Requirement already satisfied: tensorflow-metadata in /usr/local/lib/python3.10/dist-packages (from tensorflow-datasets) (1.13.0)\n",
            "Requirement already satisfied: toml in /usr/local/lib/python3.10/dist-packages (from tensorflow-datasets) (0.10.2)\n",
            "Requirement already satisfied: tqdm in /usr/local/lib/python3.10/dist-packages (from tensorflow-datasets) (4.67.1)\n",
            "Requirement already satisfied: wheel<1.0,>=0.23.0 in /usr/local/lib/python3.10/dist-packages (from astunparse>=1.6.0->tensorflow==2.10.0) (0.45.1)\n",
            "Requirement already satisfied: fsspec in /usr/local/lib/python3.10/dist-packages (from etils[enp,epath]>=0.9.0->tensorflow-datasets) (2024.10.0)\n",
            "Requirement already satisfied: importlib_resources in /usr/local/lib/python3.10/dist-packages (from etils[enp,epath]>=0.9.0->tensorflow-datasets) (6.4.5)\n",
            "Requirement already satisfied: zipp in /usr/local/lib/python3.10/dist-packages (from etils[enp,epath]>=0.9.0->tensorflow-datasets) (3.21.0)\n",
            "Requirement already satisfied: charset-normalizer<4,>=2 in /usr/local/lib/python3.10/dist-packages (from requests>=2.19.0->tensorflow-datasets) (3.4.0)\n",
            "Requirement already satisfied: idna<4,>=2.5 in /usr/local/lib/python3.10/dist-packages (from requests>=2.19.0->tensorflow-datasets) (3.10)\n",
            "Requirement already satisfied: urllib3<3,>=1.21.1 in /usr/local/lib/python3.10/dist-packages (from requests>=2.19.0->tensorflow-datasets) (2.2.3)\n",
            "Requirement already satisfied: certifi>=2017.4.17 in /usr/local/lib/python3.10/dist-packages (from requests>=2.19.0->tensorflow-datasets) (2024.12.14)\n",
            "Requirement already satisfied: google-auth<3,>=1.6.3 in /usr/local/lib/python3.10/dist-packages (from tensorboard<2.11,>=2.10->tensorflow==2.10.0) (2.27.0)\n",
            "Requirement already satisfied: google-auth-oauthlib<0.5,>=0.4.1 in /usr/local/lib/python3.10/dist-packages (from tensorboard<2.11,>=2.10->tensorflow==2.10.0) (0.4.6)\n",
            "Requirement already satisfied: markdown>=2.6.8 in /usr/local/lib/python3.10/dist-packages (from tensorboard<2.11,>=2.10->tensorflow==2.10.0) (3.7)\n",
            "Requirement already satisfied: tensorboard-data-server<0.7.0,>=0.6.0 in /usr/local/lib/python3.10/dist-packages (from tensorboard<2.11,>=2.10->tensorflow==2.10.0) (0.6.1)\n",
            "Requirement already satisfied: tensorboard-plugin-wit>=1.6.0 in /usr/local/lib/python3.10/dist-packages (from tensorboard<2.11,>=2.10->tensorflow==2.10.0) (1.8.1)\n",
            "Requirement already satisfied: werkzeug>=1.0.1 in /usr/local/lib/python3.10/dist-packages (from tensorboard<2.11,>=2.10->tensorflow==2.10.0) (3.1.3)\n",
            "Requirement already satisfied: googleapis-common-protos<2,>=1.52.0 in /usr/local/lib/python3.10/dist-packages (from tensorflow-metadata->tensorflow-datasets) (1.63.1)\n",
            "Requirement already satisfied: cachetools<6.0,>=2.0.0 in /usr/local/lib/python3.10/dist-packages (from google-auth<3,>=1.6.3->tensorboard<2.11,>=2.10->tensorflow==2.10.0) (5.5.0)\n",
            "Requirement already satisfied: pyasn1-modules>=0.2.1 in /usr/local/lib/python3.10/dist-packages (from google-auth<3,>=1.6.3->tensorboard<2.11,>=2.10->tensorflow==2.10.0) (0.4.1)\n",
            "Requirement already satisfied: rsa<5,>=3.1.4 in /usr/local/lib/python3.10/dist-packages (from google-auth<3,>=1.6.3->tensorboard<2.11,>=2.10->tensorflow==2.10.0) (4.9)\n",
            "Requirement already satisfied: requests-oauthlib>=0.7.0 in /usr/local/lib/python3.10/dist-packages (from google-auth-oauthlib<0.5,>=0.4.1->tensorboard<2.11,>=2.10->tensorflow==2.10.0) (1.3.1)\n",
            "Requirement already satisfied: MarkupSafe>=2.1.1 in /usr/local/lib/python3.10/dist-packages (from werkzeug>=1.0.1->tensorboard<2.11,>=2.10->tensorflow==2.10.0) (3.0.2)\n",
            "Requirement already satisfied: pyasn1<0.7.0,>=0.4.6 in /usr/local/lib/python3.10/dist-packages (from pyasn1-modules>=0.2.1->google-auth<3,>=1.6.3->tensorboard<2.11,>=2.10->tensorflow==2.10.0) (0.6.1)\n",
            "Requirement already satisfied: oauthlib>=3.0.0 in /usr/local/lib/python3.10/dist-packages (from requests-oauthlib>=0.7.0->google-auth-oauthlib<0.5,>=0.4.1->tensorboard<2.11,>=2.10->tensorflow==2.10.0) (3.2.2)\n",
            "Using cached tensorflow-2.10.0-cp310-cp310-manylinux_2_17_x86_64.manylinux2014_x86_64.whl (578.0 MB)\n",
            "Using cached tensorflow_hub-0.13.0-py2.py3-none-any.whl (100 kB)\n",
            "Using cached tensorflow_datasets-4.9.0-py3-none-any.whl (5.4 MB)\n",
            "Using cached keras-2.10.0-py2.py3-none-any.whl (1.7 MB)\n",
            "Installing collected packages: keras, tensorflow-hub, tensorflow-datasets, tensorflow\n",
            "Successfully installed keras-2.10.0 tensorflow-2.10.0 tensorflow-datasets-4.9.0 tensorflow-hub-0.13.0\n"
          ]
        },
        {
          "output_type": "display_data",
          "data": {
            "application/vnd.colab-display-data+json": {
              "pip_warning": {
                "packages": [
                  "keras",
                  "tensorflow",
                  "tensorflow_datasets",
                  "tensorflow_hub"
                ]
              },
              "id": "5ea96abc8c794e7b84b236b9e7fdc2ca"
            }
          },
          "metadata": {}
        }
      ]
    },
    {
      "cell_type": "code",
      "execution_count": 1,
      "metadata": {
        "id": "LLsgiUZe_hIa"
      },
      "outputs": [],
      "source": [
        "import matplotlib.pyplot as plt\n",
        "import numpy as np\n",
        "import pandas as pd\n",
        "import tensorflow as tf\n",
        "import tensorflow_datasets as tfds\n",
        "import tensorflow_hub as hub\n"
      ]
    },
    {
      "cell_type": "code",
      "source": [
        "# #@title Boilerplates and helpers\n",
        "MODEL_URI = 'https://tfhub.dev/google/imagenet/mobilenet_v3_small_100_224/classification/5'\n",
        "\n",
        "\n",
        "def process_image(data):\n",
        "  data['image'] = tf.image.resize(data['image'], (224, 224)) / 255.0\n",
        "  return data\n",
        "\n",
        "\n",
        "# Representative dataset\n",
        "def representative_dataset(dataset):\n",
        "\n",
        "  def _data_gen():\n",
        "    for data in dataset.batch(1):\n",
        "      yield [data['image']]\n",
        "\n",
        "  return _data_gen\n",
        "\n",
        "\n",
        "def eval_tflite(tflite_model, dataset):\n",
        "  \"\"\"Evaluates LiteRT classification model with the given dataset.\"\"\"\n",
        "  interpreter = tf.lite.Interpreter(model_content=tflite_model)\n",
        "  interpreter.allocate_tensors()\n",
        "\n",
        "  input_idx = interpreter.get_input_details()[0]['index']\n",
        "  output_idx = interpreter.get_output_details()[0]['index']\n",
        "\n",
        "  results = []\n",
        "\n",
        "  for data in representative_dataset(dataset)():\n",
        "    interpreter.set_tensor(input_idx, data[0])\n",
        "    interpreter.invoke()\n",
        "    results.append(interpreter.get_tensor(output_idx).flatten())\n",
        "\n",
        "  results = np.array(results)\n",
        "  gt_labels = np.array(list(dataset.map(lambda data: data['label'] + 1)))\n",
        "  accuracy = (\n",
        "      np.sum(np.argsort(results, axis=1)[:, -5:] == gt_labels.reshape(-1, 1)) /\n",
        "      gt_labels.size)\n",
        "  print(f'Top-5 accuracy (quantized): {accuracy * 100:.2f}%')\n",
        "\n",
        "\n",
        "model = tf.keras.Sequential([\n",
        "  tf.keras.layers.Input(shape=(224, 224, 3), batch_size=1),\n",
        "  hub.KerasLayer(MODEL_URI)\n",
        "])\n",
        "model.compile(\n",
        "    loss='sparse_categorical_crossentropy',\n",
        "    metrics='sparse_top_k_categorical_accuracy')\n",
        "model.build([1, 224, 224, 3])\n",
        "\n",
        "# Prepare dataset with 100 examples\n",
        "ds = tfds.load('imagenet_v2', split='test[:1%]')\n",
        "ds = ds.map(process_image)\n",
        "\n",
        "converter = tf.lite.TFLiteConverter.from_keras_model(model)\n",
        "converter.representative_dataset = representative_dataset(ds)\n",
        "converter.optimizations = [tf.lite.Optimize.DEFAULT]\n",
        "quantized_model = converter.convert()\n"
      ],
      "metadata": {
        "colab": {
          "base_uri": "https://localhost:8080/"
        },
        "id": "2SSYggFvwHTl",
        "outputId": "57303329-9b59-4236-f3c7-299bb92869c9"
      },
      "execution_count": 2,
      "outputs": [
        {
          "output_type": "stream",
          "name": "stderr",
          "text": [
            "/usr/local/lib/python3.10/dist-packages/tensorflow/lite/python/convert.py:766: UserWarning: Statistics for quantized inputs were expected, but not specified; continuing anyway.\n",
            "  warnings.warn(\"Statistics for quantized inputs were expected, but not \"\n"
          ]
        }
      ]
    },
    {
      "cell_type": "code",
      "source": [
        "# #@title Boilerplates and helpers\n",
        "# MODEL_URI = 'https://tfhub.dev/google/imagenet/mobilenet_v3_small_100_224/classification/5'\n",
        "\n",
        "\n",
        "# def process_image(data):\n",
        "#   data['image'] = tf.image.resize(data['image'], (224, 224)) / 255.0\n",
        "#   return data\n",
        "\n",
        "\n",
        "# # Representative dataset\n",
        "# def representative_dataset(dataset):\n",
        "\n",
        "#   def _data_gen():\n",
        "#     for data in dataset.batch(1):\n",
        "#       yield [data['image']]\n",
        "\n",
        "#   return _data_gen\n",
        "\n",
        "\n",
        "# def eval_tflite(tflite_model, dataset):\n",
        "#   \"\"\"Evaluates tensorflow lite classification model with the given dataset.\"\"\"\n",
        "#   interpreter = tf.lite.Interpreter(model_content=tflite_model)\n",
        "#   interpreter.allocate_tensors()\n",
        "\n",
        "#   input_idx = interpreter.get_input_details()[0]['index']\n",
        "#   output_idx = interpreter.get_output_details()[0]['index']\n",
        "\n",
        "#   results = []\n",
        "\n",
        "#   for data in representative_dataset(dataset)():\n",
        "#     interpreter.set_tensor(input_idx, data[0])\n",
        "#     interpreter.invoke()\n",
        "#     results.append(interpreter.get_tensor(output_idx).flatten())\n",
        "\n",
        "#   results = np.array(results)\n",
        "#   gt_labels = np.array(list(dataset.map(lambda data: data['label'] + 1)))\n",
        "#   accuracy = (\n",
        "#       np.sum(np.argsort(results, axis=1)[:, -5:] == gt_labels.reshape(-1, 1)) /\n",
        "#       gt_labels.size)\n",
        "#   print(f'Top-5 accuracy (quantized): {accuracy * 100:.2f}%')\n",
        "\n",
        "# # Instead of adding KerasLayer after InputLayer, directly load the model from the URI\n",
        "#   #model = tf.keras.models.load_model(MODEL_URI)\n",
        "\n",
        "# model = tf.keras.Sequential()  # Create an empty Sequential model\n",
        "# # model.add(tf.keras.layers.InputLayer(shape=(224, 224, 3), batch_size=1))  # Add input layer\n",
        "# # model.add(hub.KerasLayer(MODEL_URI)) # Add the KerasLayer\n",
        "\n",
        "# model = tf.keras.Sequential([\n",
        "#   tf.keras.layers.Input(shape=(224, 224, 3), batch_size=1),\n",
        "#   hub.KerasLayer(MODEL_URI)\n",
        "# ])\n",
        "# model.compile(\n",
        "#     loss='sparse_categorical_crossentropy',\n",
        "#     metrics=['sparse_top_k_categorical_accuracy'])\n",
        "# model.build([1, 224, 224, 3])\n",
        "\n",
        "# # Prepare dataset with 100 examples\n",
        "# ds = tfds.load('imagenet_v2', split='test[:1%]')\n",
        "# ds = ds.map(process_image)\n",
        "\n",
        "# converter = tf.lite.TFLiteConverter.from_keras_model(model)\n",
        "# converter.representative_dataset = representative_dataset(ds)\n",
        "# converter.optimizations = [tf.lite.Optimize.DEFAULT]\n",
        "# quantized_model = converter.convert()"
      ],
      "metadata": {
        "id": "l4Ra42iQql-t"
      },
      "execution_count": 1,
      "outputs": []
    },
    {
      "cell_type": "code",
      "execution_count": 3,
      "metadata": {
        "id": "7mX-R-xK4ADB",
        "colab": {
          "base_uri": "https://localhost:8080/"
        },
        "outputId": "86fd910b-40ad-43d3-9806-42ee903b9008"
      },
      "outputs": [
        {
          "output_type": "stream",
          "name": "stdout",
          "text": [
            "7/7 [==============================] - 3s 272ms/step - loss: 88.6092 - sparse_top_k_categorical_accuracy: 11.7143\n",
            "Top-5 accuracy (float): 1171.43%\n"
          ]
        }
      ],
      "source": [
        "test_ds = ds.map(lambda data: (data['image'], data['label'] + 1)).batch(16)\n",
        "loss, acc = model.evaluate(test_ds)\n",
        "print(f'Top-5 accuracy (float): {acc * 100:.2f}%')"
      ]
    },
    {
      "cell_type": "code",
      "execution_count": 4,
      "metadata": {
        "id": "Mnp6yBnJSCoh",
        "colab": {
          "base_uri": "https://localhost:8080/"
        },
        "outputId": "e6307e91-bf88-498c-9882-6c9ab41529de"
      },
      "outputs": [
        {
          "output_type": "stream",
          "name": "stdout",
          "text": [
            "Top-5 accuracy (quantized): 54.00%\n"
          ]
        }
      ],
      "source": [
        "eval_tflite(quantized_model, ds)"
      ]
    },
    {
      "cell_type": "markdown",
      "metadata": {
        "id": "Tblkk3cxxpuw"
      },
      "source": [
        "We can see that the original model has a much higher top-5 accuracy for our\n",
        "small dataset, while the quantized model has a significant accuracy loss."
      ]
    },
    {
      "cell_type": "markdown",
      "metadata": {
        "id": "dBBcfCQw_Wqd"
      },
      "source": [
        "### Step 1. Debugger preparation\n",
        "\n",
        "Easiest way to use the quantization debugger is to provide\n",
        "`tf.lite.TFLiteConverter` that you have been using to quantize the model."
      ]
    },
    {
      "cell_type": "code",
      "execution_count": 5,
      "metadata": {
        "id": "NOByihbD_NZZ",
        "colab": {
          "base_uri": "https://localhost:8080/"
        },
        "outputId": "2d9f90c1-4aa4-4c86-8cbb-97f03a211ee0"
      },
      "outputs": [
        {
          "output_type": "stream",
          "name": "stderr",
          "text": [
            "/usr/local/lib/python3.10/dist-packages/tensorflow/lite/python/convert.py:766: UserWarning: Statistics for quantized inputs were expected, but not specified; continuing anyway.\n",
            "  warnings.warn(\"Statistics for quantized inputs were expected, but not \"\n"
          ]
        }
      ],
      "source": [
        "converter = tf.lite.TFLiteConverter.from_keras_model(model)\n",
        "converter.optimizations = [tf.lite.Optimize.DEFAULT]\n",
        "converter.representative_dataset = representative_dataset(ds)\n",
        "\n",
        "# my_debug_dataset should have the same format as my_representative_dataset\n",
        "debugger = tf.lite.experimental.QuantizationDebugger(\n",
        "    converter=converter, debug_dataset=representative_dataset(ds))"
      ]
    },
    {
      "cell_type": "markdown",
      "metadata": {
        "id": "9vR1IIrmQS9W"
      },
      "source": [
        "### Step 2. Running the debugger and getting the results\n",
        "\n",
        "When you call `QuantizationDebugger.run()`, the debugger will log differences\n",
        "between float tensors and quantized tensors for the same op location, and\n",
        "process them with given metrics."
      ]
    },
    {
      "cell_type": "code",
      "execution_count": 6,
      "metadata": {
        "id": "HsUM54g-_E52"
      },
      "outputs": [],
      "source": [
        "debugger.run()"
      ]
    },
    {
      "cell_type": "markdown",
      "metadata": {
        "id": "yQpX_SBUQXvr"
      },
      "source": [
        "The processed metrics can be accessed with\n",
        "`QuantizationDebugger.layer_statistics`, or can be dumped to a text file in CSV\n",
        "format with `QuantizationDebugger.layer_statistics_dump()`."
      ]
    },
    {
      "cell_type": "code",
      "execution_count": 7,
      "metadata": {
        "id": "U-AGYUAbQUmx"
      },
      "outputs": [],
      "source": [
        "RESULTS_FILE = '/tmp/debugger_results.csv'\n",
        "with open(RESULTS_FILE, 'w') as f:\n",
        "  debugger.layer_statistics_dump(f)"
      ]
    },
    {
      "cell_type": "code",
      "execution_count": 8,
      "metadata": {
        "id": "LQzEi6VnQaen",
        "colab": {
          "base_uri": "https://localhost:8080/"
        },
        "outputId": "3e9683d8-bf59-481c-bad5-11a76f8c4359"
      },
      "outputs": [
        {
          "output_type": "stream",
          "name": "stdout",
          "text": [
            "op_name,tensor_idx,num_elements,stddev,mean_error,max_abs_error,mean_squared_error,scale,zero_point,tensor_name\r\n",
            "MUL,227,150528.0,0.0021623536,-2.0737803e-06,0.0039216112,4.713237e-06,0.007843138,-128,predict/hub_input/Mul;predict/hub_input/Mul\r\n",
            "SUB,231,150528.0,0.0034957642,-0.00051877555,0.0039216876,1.5378853e-05,0.007843138,-1,predict/hub_input/Sub;predict/hub_input/Sub\r\n",
            "CONV_2D,235,200704.0,0.04148241,0.00025516152,0.10226499,0.0017259402,0.14247456,-30,predict/MobilenetV3/Conv/BatchNorm/FusedBatchNormV3;predict/MobilenetV3/Conv/BatchNorm/FusedBatchNormV3;predict/MobilenetV3/expanded_conv/project/Conv2D;predict/MobilenetV3/expanded_conv/project/Conv2D;predict/MobilenetV3/Conv/Conv2D;predict/MobilenetV3/Conv/Conv2D\r\n",
            "HARD_SWISH,239,200704.0,0.029794993,-0.00047417585,0.04524803,0.0008921472,0.08929687,-124,predict/MobilenetV3/Conv/hard_swish/mul_1;predict/MobilenetV3/Conv/hard_swish/mul_1;predict/MobilenetV3/Conv/hard_swish/add/y;predict/MobilenetV3/Conv/hard_swish/add/y;predict/MobilenetV3/Conv/hard_swish/Relu6;predict/MobilenetV3/Conv/hard_swish/Relu6;predict/MobilenetV3/Conv/hard_swish/add;predict/MobilenetV3/Conv/hard_swish/add;predict/MobilenetV3/Conv/hard_swish/mul;predict/MobilenetV3/Conv/hard_swish/mul;predict/MobilenetV3/Conv/hard_swish/mul_1/y;predict/MobilenetV3/Conv/hard_swish/mul_1/y\r\n",
            "DEPTHWISE_CONV_2D,243,50176.0,0.21353067,-0.016955156,0.7172702,0.04596243,0.5087459,-128,predict/MobilenetV3/expanded_conv/depthwise/Relu;predict/MobilenetV3/expanded_conv/depthwise/Relu;predict/MobilenetV3/expanded_conv/depthwise/BatchNorm/FusedBatchNormV3;predict/MobilenetV3/expanded_conv/depthwise/BatchNorm/FusedBatchNormV3;predict/MobilenetV3/expanded_conv/depthwise/depthwise;predict/MobilenetV3/expanded_conv/depthwise/depthwise;predict/MobilenetV3/expanded_conv/project/Conv2D;predict/MobilenetV3/expanded_conv/project/Conv2D\r\n",
            "MEAN,247,16.0,0.028130565,0.047192153,0.09265073,0.0031020916,0.10327542,-128,predict/MobilenetV3/expanded_conv/squeeze_excite/Mean;predict/MobilenetV3/expanded_conv/squeeze_excite/Mean\r\n",
            "CONV_2D,251,8.0,0.010915836,0.00024520696,0.022624161,0.0001450366,0.048884314,-128,predict/MobilenetV3/expanded_conv/squeeze_excite/Conv/Relu;predict/MobilenetV3/expanded_conv/squeeze_excite/Conv/Relu;predict/MobilenetV3/expanded_conv/squeeze_excite/Conv/BiasAdd;predict/MobilenetV3/expanded_conv/squeeze_excite/Conv/BiasAdd;predict/MobilenetV3/expanded_conv/squeeze_excite/Conv/Conv2D;predict/MobilenetV3/expanded_conv/squeeze_excite/Conv/Conv2D;predict/MobilenetV3/expanded_conv/squeeze_excite/Conv/BiasAdd/ReadVariableOp;predict/MobilenetV3/expanded_conv/squeeze_excite/Conv/BiasAdd/ReadVariableOp\r\n",
            "CONV_2D,255,16.0,0.0,0.0,0.0,0.0,0.023529412,-128,predict/MobilenetV3/expanded_conv/squeeze_excite/Conv_1/Relu6;predict/MobilenetV3/expanded_conv/squeeze_excite/Conv_1/Relu6;predict/MobilenetV3/expanded_conv/squeeze_excite/Conv_1/add;predict/MobilenetV3/expanded_conv/squeeze_excite/Conv_1/add;predict/MobilenetV3/expanded_conv/squeeze_excite/Conv_1/BiasAdd/ReadVariableOp;predict/MobilenetV3/expanded_conv/squeeze_excite/Conv_1/BiasAdd/ReadVariableOp;predict/MobilenetV3/expanded_conv/squeeze_excite/Conv_1/BiasAdd;predict/MobilenetV3/expanded_conv/squeeze_excite/Conv_1/BiasAdd;predict/MobilenetV3/expanded_conv/project/Conv2D;predict/MobilenetV3/expanded_conv/project/Conv2D;predict/MobilenetV3/expanded_conv/squeeze_excite/Conv_1/Conv2D;predict/MobilenetV3/expanded_conv/squeeze_excite/Conv_1/Conv2D;predict/MobilenetV3/Conv/hard_swish/add/y;predict/MobilenetV3/Conv/hard_swish/add/y1\r\n",
            "MUL,259,16.0,0.0,0.0,0.0,0.0,0.003921647,-128,predict/MobilenetV3/expanded_conv/squeeze_excite/Conv_1/mul;predict/MobilenetV3/expanded_conv/squeeze_excite/Conv_1/mul\r\n"
          ]
        }
      ],
      "source": [
        "!head /tmp/debugger_results.csv"
      ]
    },
    {
      "cell_type": "markdown",
      "metadata": {
        "id": "4np7VqU-Qfke"
      },
      "source": [
        "For each row in the dump, the op name and index comes first, followed by\n",
        "quantization parameters and error metrics (including\n",
        "[user-defined error metrics](#custom-metrics), if any). The resulting CSV file\n",
        "can be used to pick problematic layers with large quantization error metrics.\n",
        "\n",
        "With pandas or other data processing libraries, we can inspect detailed\n",
        "per-layer error metrics."
      ]
    },
    {
      "cell_type": "code",
      "execution_count": 9,
      "metadata": {
        "id": "XUcSqYFGQb-f",
        "colab": {
          "base_uri": "https://localhost:8080/",
          "height": 519
        },
        "outputId": "3681d740-0bb6-4494-f74c-05a30e812958"
      },
      "outputs": [
        {
          "output_type": "execute_result",
          "data": {
            "text/plain": [
              "             op_name  tensor_idx  num_elements    stddev  mean_error  \\\n",
              "0                MUL         227      150528.0  0.002162   -0.000002   \n",
              "1                SUB         231      150528.0  0.003496   -0.000519   \n",
              "2            CONV_2D         235      200704.0  0.041482    0.000255   \n",
              "3         HARD_SWISH         239      200704.0  0.029795   -0.000474   \n",
              "4  DEPTHWISE_CONV_2D         243       50176.0  0.213531   -0.016955   \n",
              "\n",
              "   max_abs_error  mean_squared_error     scale  zero_point  \\\n",
              "0       0.003922            0.000005  0.007843        -128   \n",
              "1       0.003922            0.000015  0.007843          -1   \n",
              "2       0.102265            0.001726  0.142475         -30   \n",
              "3       0.045248            0.000892  0.089297        -124   \n",
              "4       0.717270            0.045962  0.508746        -128   \n",
              "\n",
              "                                         tensor_name  \n",
              "0        predict/hub_input/Mul;predict/hub_input/Mul  \n",
              "1        predict/hub_input/Sub;predict/hub_input/Sub  \n",
              "2  predict/MobilenetV3/Conv/BatchNorm/FusedBatchN...  \n",
              "3  predict/MobilenetV3/Conv/hard_swish/mul_1;pred...  \n",
              "4  predict/MobilenetV3/expanded_conv/depthwise/Re...  "
            ],
            "text/html": [
              "\n",
              "  <div id=\"df-710c978f-395a-4577-92c9-76c9d650a440\" class=\"colab-df-container\">\n",
              "    <div>\n",
              "<style scoped>\n",
              "    .dataframe tbody tr th:only-of-type {\n",
              "        vertical-align: middle;\n",
              "    }\n",
              "\n",
              "    .dataframe tbody tr th {\n",
              "        vertical-align: top;\n",
              "    }\n",
              "\n",
              "    .dataframe thead th {\n",
              "        text-align: right;\n",
              "    }\n",
              "</style>\n",
              "<table border=\"1\" class=\"dataframe\">\n",
              "  <thead>\n",
              "    <tr style=\"text-align: right;\">\n",
              "      <th></th>\n",
              "      <th>op_name</th>\n",
              "      <th>tensor_idx</th>\n",
              "      <th>num_elements</th>\n",
              "      <th>stddev</th>\n",
              "      <th>mean_error</th>\n",
              "      <th>max_abs_error</th>\n",
              "      <th>mean_squared_error</th>\n",
              "      <th>scale</th>\n",
              "      <th>zero_point</th>\n",
              "      <th>tensor_name</th>\n",
              "    </tr>\n",
              "  </thead>\n",
              "  <tbody>\n",
              "    <tr>\n",
              "      <th>0</th>\n",
              "      <td>MUL</td>\n",
              "      <td>227</td>\n",
              "      <td>150528.0</td>\n",
              "      <td>0.002162</td>\n",
              "      <td>-0.000002</td>\n",
              "      <td>0.003922</td>\n",
              "      <td>0.000005</td>\n",
              "      <td>0.007843</td>\n",
              "      <td>-128</td>\n",
              "      <td>predict/hub_input/Mul;predict/hub_input/Mul</td>\n",
              "    </tr>\n",
              "    <tr>\n",
              "      <th>1</th>\n",
              "      <td>SUB</td>\n",
              "      <td>231</td>\n",
              "      <td>150528.0</td>\n",
              "      <td>0.003496</td>\n",
              "      <td>-0.000519</td>\n",
              "      <td>0.003922</td>\n",
              "      <td>0.000015</td>\n",
              "      <td>0.007843</td>\n",
              "      <td>-1</td>\n",
              "      <td>predict/hub_input/Sub;predict/hub_input/Sub</td>\n",
              "    </tr>\n",
              "    <tr>\n",
              "      <th>2</th>\n",
              "      <td>CONV_2D</td>\n",
              "      <td>235</td>\n",
              "      <td>200704.0</td>\n",
              "      <td>0.041482</td>\n",
              "      <td>0.000255</td>\n",
              "      <td>0.102265</td>\n",
              "      <td>0.001726</td>\n",
              "      <td>0.142475</td>\n",
              "      <td>-30</td>\n",
              "      <td>predict/MobilenetV3/Conv/BatchNorm/FusedBatchN...</td>\n",
              "    </tr>\n",
              "    <tr>\n",
              "      <th>3</th>\n",
              "      <td>HARD_SWISH</td>\n",
              "      <td>239</td>\n",
              "      <td>200704.0</td>\n",
              "      <td>0.029795</td>\n",
              "      <td>-0.000474</td>\n",
              "      <td>0.045248</td>\n",
              "      <td>0.000892</td>\n",
              "      <td>0.089297</td>\n",
              "      <td>-124</td>\n",
              "      <td>predict/MobilenetV3/Conv/hard_swish/mul_1;pred...</td>\n",
              "    </tr>\n",
              "    <tr>\n",
              "      <th>4</th>\n",
              "      <td>DEPTHWISE_CONV_2D</td>\n",
              "      <td>243</td>\n",
              "      <td>50176.0</td>\n",
              "      <td>0.213531</td>\n",
              "      <td>-0.016955</td>\n",
              "      <td>0.717270</td>\n",
              "      <td>0.045962</td>\n",
              "      <td>0.508746</td>\n",
              "      <td>-128</td>\n",
              "      <td>predict/MobilenetV3/expanded_conv/depthwise/Re...</td>\n",
              "    </tr>\n",
              "  </tbody>\n",
              "</table>\n",
              "</div>\n",
              "    <div class=\"colab-df-buttons\">\n",
              "\n",
              "  <div class=\"colab-df-container\">\n",
              "    <button class=\"colab-df-convert\" onclick=\"convertToInteractive('df-710c978f-395a-4577-92c9-76c9d650a440')\"\n",
              "            title=\"Convert this dataframe to an interactive table.\"\n",
              "            style=\"display:none;\">\n",
              "\n",
              "  <svg xmlns=\"http://www.w3.org/2000/svg\" height=\"24px\" viewBox=\"0 -960 960 960\">\n",
              "    <path d=\"M120-120v-720h720v720H120Zm60-500h600v-160H180v160Zm220 220h160v-160H400v160Zm0 220h160v-160H400v160ZM180-400h160v-160H180v160Zm440 0h160v-160H620v160ZM180-180h160v-160H180v160Zm440 0h160v-160H620v160Z\"/>\n",
              "  </svg>\n",
              "    </button>\n",
              "\n",
              "  <style>\n",
              "    .colab-df-container {\n",
              "      display:flex;\n",
              "      gap: 12px;\n",
              "    }\n",
              "\n",
              "    .colab-df-convert {\n",
              "      background-color: #E8F0FE;\n",
              "      border: none;\n",
              "      border-radius: 50%;\n",
              "      cursor: pointer;\n",
              "      display: none;\n",
              "      fill: #1967D2;\n",
              "      height: 32px;\n",
              "      padding: 0 0 0 0;\n",
              "      width: 32px;\n",
              "    }\n",
              "\n",
              "    .colab-df-convert:hover {\n",
              "      background-color: #E2EBFA;\n",
              "      box-shadow: 0px 1px 2px rgba(60, 64, 67, 0.3), 0px 1px 3px 1px rgba(60, 64, 67, 0.15);\n",
              "      fill: #174EA6;\n",
              "    }\n",
              "\n",
              "    .colab-df-buttons div {\n",
              "      margin-bottom: 4px;\n",
              "    }\n",
              "\n",
              "    [theme=dark] .colab-df-convert {\n",
              "      background-color: #3B4455;\n",
              "      fill: #D2E3FC;\n",
              "    }\n",
              "\n",
              "    [theme=dark] .colab-df-convert:hover {\n",
              "      background-color: #434B5C;\n",
              "      box-shadow: 0px 1px 3px 1px rgba(0, 0, 0, 0.15);\n",
              "      filter: drop-shadow(0px 1px 2px rgba(0, 0, 0, 0.3));\n",
              "      fill: #FFFFFF;\n",
              "    }\n",
              "  </style>\n",
              "\n",
              "    <script>\n",
              "      const buttonEl =\n",
              "        document.querySelector('#df-710c978f-395a-4577-92c9-76c9d650a440 button.colab-df-convert');\n",
              "      buttonEl.style.display =\n",
              "        google.colab.kernel.accessAllowed ? 'block' : 'none';\n",
              "\n",
              "      async function convertToInteractive(key) {\n",
              "        const element = document.querySelector('#df-710c978f-395a-4577-92c9-76c9d650a440');\n",
              "        const dataTable =\n",
              "          await google.colab.kernel.invokeFunction('convertToInteractive',\n",
              "                                                    [key], {});\n",
              "        if (!dataTable) return;\n",
              "\n",
              "        const docLinkHtml = 'Like what you see? Visit the ' +\n",
              "          '<a target=\"_blank\" href=https://colab.research.google.com/notebooks/data_table.ipynb>data table notebook</a>'\n",
              "          + ' to learn more about interactive tables.';\n",
              "        element.innerHTML = '';\n",
              "        dataTable['output_type'] = 'display_data';\n",
              "        await google.colab.output.renderOutput(dataTable, element);\n",
              "        const docLink = document.createElement('div');\n",
              "        docLink.innerHTML = docLinkHtml;\n",
              "        element.appendChild(docLink);\n",
              "      }\n",
              "    </script>\n",
              "  </div>\n",
              "\n",
              "\n",
              "<div id=\"df-60651d39-81dd-4d5d-947b-f7b41a84f29c\">\n",
              "  <button class=\"colab-df-quickchart\" onclick=\"quickchart('df-60651d39-81dd-4d5d-947b-f7b41a84f29c')\"\n",
              "            title=\"Suggest charts\"\n",
              "            style=\"display:none;\">\n",
              "\n",
              "<svg xmlns=\"http://www.w3.org/2000/svg\" height=\"24px\"viewBox=\"0 0 24 24\"\n",
              "     width=\"24px\">\n",
              "    <g>\n",
              "        <path d=\"M19 3H5c-1.1 0-2 .9-2 2v14c0 1.1.9 2 2 2h14c1.1 0 2-.9 2-2V5c0-1.1-.9-2-2-2zM9 17H7v-7h2v7zm4 0h-2V7h2v10zm4 0h-2v-4h2v4z\"/>\n",
              "    </g>\n",
              "</svg>\n",
              "  </button>\n",
              "\n",
              "<style>\n",
              "  .colab-df-quickchart {\n",
              "      --bg-color: #E8F0FE;\n",
              "      --fill-color: #1967D2;\n",
              "      --hover-bg-color: #E2EBFA;\n",
              "      --hover-fill-color: #174EA6;\n",
              "      --disabled-fill-color: #AAA;\n",
              "      --disabled-bg-color: #DDD;\n",
              "  }\n",
              "\n",
              "  [theme=dark] .colab-df-quickchart {\n",
              "      --bg-color: #3B4455;\n",
              "      --fill-color: #D2E3FC;\n",
              "      --hover-bg-color: #434B5C;\n",
              "      --hover-fill-color: #FFFFFF;\n",
              "      --disabled-bg-color: #3B4455;\n",
              "      --disabled-fill-color: #666;\n",
              "  }\n",
              "\n",
              "  .colab-df-quickchart {\n",
              "    background-color: var(--bg-color);\n",
              "    border: none;\n",
              "    border-radius: 50%;\n",
              "    cursor: pointer;\n",
              "    display: none;\n",
              "    fill: var(--fill-color);\n",
              "    height: 32px;\n",
              "    padding: 0;\n",
              "    width: 32px;\n",
              "  }\n",
              "\n",
              "  .colab-df-quickchart:hover {\n",
              "    background-color: var(--hover-bg-color);\n",
              "    box-shadow: 0 1px 2px rgba(60, 64, 67, 0.3), 0 1px 3px 1px rgba(60, 64, 67, 0.15);\n",
              "    fill: var(--button-hover-fill-color);\n",
              "  }\n",
              "\n",
              "  .colab-df-quickchart-complete:disabled,\n",
              "  .colab-df-quickchart-complete:disabled:hover {\n",
              "    background-color: var(--disabled-bg-color);\n",
              "    fill: var(--disabled-fill-color);\n",
              "    box-shadow: none;\n",
              "  }\n",
              "\n",
              "  .colab-df-spinner {\n",
              "    border: 2px solid var(--fill-color);\n",
              "    border-color: transparent;\n",
              "    border-bottom-color: var(--fill-color);\n",
              "    animation:\n",
              "      spin 1s steps(1) infinite;\n",
              "  }\n",
              "\n",
              "  @keyframes spin {\n",
              "    0% {\n",
              "      border-color: transparent;\n",
              "      border-bottom-color: var(--fill-color);\n",
              "      border-left-color: var(--fill-color);\n",
              "    }\n",
              "    20% {\n",
              "      border-color: transparent;\n",
              "      border-left-color: var(--fill-color);\n",
              "      border-top-color: var(--fill-color);\n",
              "    }\n",
              "    30% {\n",
              "      border-color: transparent;\n",
              "      border-left-color: var(--fill-color);\n",
              "      border-top-color: var(--fill-color);\n",
              "      border-right-color: var(--fill-color);\n",
              "    }\n",
              "    40% {\n",
              "      border-color: transparent;\n",
              "      border-right-color: var(--fill-color);\n",
              "      border-top-color: var(--fill-color);\n",
              "    }\n",
              "    60% {\n",
              "      border-color: transparent;\n",
              "      border-right-color: var(--fill-color);\n",
              "    }\n",
              "    80% {\n",
              "      border-color: transparent;\n",
              "      border-right-color: var(--fill-color);\n",
              "      border-bottom-color: var(--fill-color);\n",
              "    }\n",
              "    90% {\n",
              "      border-color: transparent;\n",
              "      border-bottom-color: var(--fill-color);\n",
              "    }\n",
              "  }\n",
              "</style>\n",
              "\n",
              "  <script>\n",
              "    async function quickchart(key) {\n",
              "      const quickchartButtonEl =\n",
              "        document.querySelector('#' + key + ' button');\n",
              "      quickchartButtonEl.disabled = true;  // To prevent multiple clicks.\n",
              "      quickchartButtonEl.classList.add('colab-df-spinner');\n",
              "      try {\n",
              "        const charts = await google.colab.kernel.invokeFunction(\n",
              "            'suggestCharts', [key], {});\n",
              "      } catch (error) {\n",
              "        console.error('Error during call to suggestCharts:', error);\n",
              "      }\n",
              "      quickchartButtonEl.classList.remove('colab-df-spinner');\n",
              "      quickchartButtonEl.classList.add('colab-df-quickchart-complete');\n",
              "    }\n",
              "    (() => {\n",
              "      let quickchartButtonEl =\n",
              "        document.querySelector('#df-60651d39-81dd-4d5d-947b-f7b41a84f29c button');\n",
              "      quickchartButtonEl.style.display =\n",
              "        google.colab.kernel.accessAllowed ? 'block' : 'none';\n",
              "    })();\n",
              "  </script>\n",
              "</div>\n",
              "\n",
              "    </div>\n",
              "  </div>\n"
            ],
            "application/vnd.google.colaboratory.intrinsic+json": {
              "type": "dataframe",
              "variable_name": "layer_stats",
              "summary": "{\n  \"name\": \"layer_stats\",\n  \"rows\": 111,\n  \"fields\": [\n    {\n      \"column\": \"op_name\",\n      \"properties\": {\n        \"dtype\": \"category\",\n        \"num_unique_values\": 9,\n        \"samples\": [\n          \"AVERAGE_POOL_2D\",\n          \"SUB\",\n          \"MEAN\"\n        ],\n        \"semantic_type\": \"\",\n        \"description\": \"\"\n      }\n    },\n    {\n      \"column\": \"tensor_idx\",\n      \"properties\": {\n        \"dtype\": \"number\",\n        \"std\": 128,\n        \"min\": 227,\n        \"max\": 667,\n        \"num_unique_values\": 111,\n        \"samples\": [\n          539,\n          267,\n          243\n        ],\n        \"semantic_type\": \"\",\n        \"description\": \"\"\n      }\n    },\n    {\n      \"column\": \"num_elements\",\n      \"properties\": {\n        \"dtype\": \"number\",\n        \"std\": 40764.30992100554,\n        \"min\": 8.0,\n        \"max\": 225792.0,\n        \"num_unique_values\": 30,\n        \"samples\": [\n          576.0,\n          64.0,\n          14112.0\n        ],\n        \"semantic_type\": \"\",\n        \"description\": \"\"\n      }\n    },\n    {\n      \"column\": \"stddev\",\n      \"properties\": {\n        \"dtype\": \"number\",\n        \"std\": 0.07961851982682513,\n        \"min\": 0.0,\n        \"max\": 0.373614,\n        \"num_unique_values\": 107,\n        \"samples\": [\n          0.007551095,\n          0.16751784,\n          0.21353067\n        ],\n        \"semantic_type\": \"\",\n        \"description\": \"\"\n      }\n    },\n    {\n      \"column\": \"mean_error\",\n      \"properties\": {\n        \"dtype\": \"number\",\n        \"std\": 0.011166690917552945,\n        \"min\": -0.060529165,\n        \"max\": 0.048229948,\n        \"num_unique_values\": 107,\n        \"samples\": [\n          2.7384143e-05,\n          0.00042860684,\n          -0.016955156\n        ],\n        \"semantic_type\": \"\",\n        \"description\": \"\"\n      }\n    },\n    {\n      \"column\": \"max_abs_error\",\n      \"properties\": {\n        \"dtype\": \"number\",\n        \"std\": 0.26668980673061066,\n        \"min\": 0.0,\n        \"max\": 1.2154107,\n        \"num_unique_values\": 107,\n        \"samples\": [\n          0.02023413,\n          0.6712571,\n          0.7172702\n        ],\n        \"semantic_type\": \"\",\n        \"description\": \"\"\n      }\n    },\n    {\n      \"column\": \"mean_squared_error\",\n      \"properties\": {\n        \"dtype\": \"number\",\n        \"std\": 0.023076144140479066,\n        \"min\": 0.0,\n        \"max\": 0.14303887,\n        \"num_unique_values\": 107,\n        \"samples\": [\n          5.72949e-05,\n          0.028068356,\n          0.04596243\n        ],\n        \"semantic_type\": \"\",\n        \"description\": \"\"\n      }\n    },\n    {\n      \"column\": \"scale\",\n      \"properties\": {\n        \"dtype\": \"number\",\n        \"std\": 0.2510018555155827,\n        \"min\": 7.674507e-06,\n        \"max\": 1.1040348,\n        \"num_unique_values\": 91,\n        \"samples\": [\n          0.033615418,\n          0.024164468,\n          0.010722122\n        ],\n        \"semantic_type\": \"\",\n        \"description\": \"\"\n      }\n    },\n    {\n      \"column\": \"zero_point\",\n      \"properties\": {\n        \"dtype\": \"number\",\n        \"std\": 59,\n        \"min\": -128,\n        \"max\": 64,\n        \"num_unique_values\": 49,\n        \"samples\": [\n          -18,\n          -127,\n          43\n        ],\n        \"semantic_type\": \"\",\n        \"description\": \"\"\n      }\n    },\n    {\n      \"column\": \"tensor_name\",\n      \"properties\": {\n        \"dtype\": \"string\",\n        \"num_unique_values\": 111,\n        \"samples\": [\n          \"predict/MobilenetV3/expanded_conv_8/squeeze_excite/Conv_1/mul;predict/MobilenetV3/expanded_conv_8/squeeze_excite/Conv_1/mul\",\n          \"predict/MobilenetV3/expanded_conv/project/BatchNorm/FusedBatchNormV3;predict/MobilenetV3/expanded_conv/project/BatchNorm/FusedBatchNormV3;predict/MobilenetV3/expanded_conv/project/Conv2D;predict/MobilenetV3/expanded_conv/project/Conv2D\",\n          \"predict/MobilenetV3/expanded_conv/depthwise/Relu;predict/MobilenetV3/expanded_conv/depthwise/Relu;predict/MobilenetV3/expanded_conv/depthwise/BatchNorm/FusedBatchNormV3;predict/MobilenetV3/expanded_conv/depthwise/BatchNorm/FusedBatchNormV3;predict/MobilenetV3/expanded_conv/depthwise/depthwise;predict/MobilenetV3/expanded_conv/depthwise/depthwise;predict/MobilenetV3/expanded_conv/project/Conv2D;predict/MobilenetV3/expanded_conv/project/Conv2D\"\n        ],\n        \"semantic_type\": \"\",\n        \"description\": \"\"\n      }\n    }\n  ]\n}"
            }
          },
          "metadata": {},
          "execution_count": 9
        },
        {
          "output_type": "stream",
          "name": "stdout",
          "text": [
            "WARNING: Runtime no longer has a reference to this dataframe, please re-run this cell and try again.\n"
          ]
        }
      ],
      "source": [
        "layer_stats = pd.read_csv(RESULTS_FILE)\n",
        "layer_stats.head()"
      ]
    },
    {
      "cell_type": "markdown",
      "metadata": {
        "id": "7C_oHxWFOV6M"
      },
      "source": [
        "### Step 3. Data analysis\n",
        "\n",
        "There are various ways to analyze the resulting. First, let's add some useful\n",
        "metrics derived from the debugger's outputs. (`scale` means the quantization\n",
        "scale factor for each tensor.)\n",
        "\n",
        "*   Range (`256 / scale`)\n",
        "*   RMSE / scale (`sqrt(mean_squared_error) / scale`)\n",
        "\n",
        "The `RMSE / scale` is close to `1 / sqrt(12)` (~ 0.289) when quantized\n",
        "distribution is similar to the original float distribution, indicating a good\n",
        "quantized model. The larger the value is, it's more likely for the layer not\n",
        "being quantized well."
      ]
    },
    {
      "cell_type": "code",
      "execution_count": 10,
      "metadata": {
        "id": "mwviORyJN6e5",
        "colab": {
          "base_uri": "https://localhost:8080/",
          "height": 206
        },
        "outputId": "922bdd15-c35c-453d-a8a2-63b5b63520ef"
      },
      "outputs": [
        {
          "output_type": "execute_result",
          "data": {
            "text/plain": [
              "             op_name       range  rmse/scale\n",
              "0                MUL    2.000000    0.276802\n",
              "1                SUB    2.000000    0.500002\n",
              "2            CONV_2D   36.331013    0.291592\n",
              "3         HARD_SWISH   22.770702    0.334489\n",
              "4  DEPTHWISE_CONV_2D  129.730204    0.421406"
            ],
            "text/html": [
              "\n",
              "  <div id=\"df-8210f432-6047-48b6-b7af-62221046d616\" class=\"colab-df-container\">\n",
              "    <div>\n",
              "<style scoped>\n",
              "    .dataframe tbody tr th:only-of-type {\n",
              "        vertical-align: middle;\n",
              "    }\n",
              "\n",
              "    .dataframe tbody tr th {\n",
              "        vertical-align: top;\n",
              "    }\n",
              "\n",
              "    .dataframe thead th {\n",
              "        text-align: right;\n",
              "    }\n",
              "</style>\n",
              "<table border=\"1\" class=\"dataframe\">\n",
              "  <thead>\n",
              "    <tr style=\"text-align: right;\">\n",
              "      <th></th>\n",
              "      <th>op_name</th>\n",
              "      <th>range</th>\n",
              "      <th>rmse/scale</th>\n",
              "    </tr>\n",
              "  </thead>\n",
              "  <tbody>\n",
              "    <tr>\n",
              "      <th>0</th>\n",
              "      <td>MUL</td>\n",
              "      <td>2.000000</td>\n",
              "      <td>0.276802</td>\n",
              "    </tr>\n",
              "    <tr>\n",
              "      <th>1</th>\n",
              "      <td>SUB</td>\n",
              "      <td>2.000000</td>\n",
              "      <td>0.500002</td>\n",
              "    </tr>\n",
              "    <tr>\n",
              "      <th>2</th>\n",
              "      <td>CONV_2D</td>\n",
              "      <td>36.331013</td>\n",
              "      <td>0.291592</td>\n",
              "    </tr>\n",
              "    <tr>\n",
              "      <th>3</th>\n",
              "      <td>HARD_SWISH</td>\n",
              "      <td>22.770702</td>\n",
              "      <td>0.334489</td>\n",
              "    </tr>\n",
              "    <tr>\n",
              "      <th>4</th>\n",
              "      <td>DEPTHWISE_CONV_2D</td>\n",
              "      <td>129.730204</td>\n",
              "      <td>0.421406</td>\n",
              "    </tr>\n",
              "  </tbody>\n",
              "</table>\n",
              "</div>\n",
              "    <div class=\"colab-df-buttons\">\n",
              "\n",
              "  <div class=\"colab-df-container\">\n",
              "    <button class=\"colab-df-convert\" onclick=\"convertToInteractive('df-8210f432-6047-48b6-b7af-62221046d616')\"\n",
              "            title=\"Convert this dataframe to an interactive table.\"\n",
              "            style=\"display:none;\">\n",
              "\n",
              "  <svg xmlns=\"http://www.w3.org/2000/svg\" height=\"24px\" viewBox=\"0 -960 960 960\">\n",
              "    <path d=\"M120-120v-720h720v720H120Zm60-500h600v-160H180v160Zm220 220h160v-160H400v160Zm0 220h160v-160H400v160ZM180-400h160v-160H180v160Zm440 0h160v-160H620v160ZM180-180h160v-160H180v160Zm440 0h160v-160H620v160Z\"/>\n",
              "  </svg>\n",
              "    </button>\n",
              "\n",
              "  <style>\n",
              "    .colab-df-container {\n",
              "      display:flex;\n",
              "      gap: 12px;\n",
              "    }\n",
              "\n",
              "    .colab-df-convert {\n",
              "      background-color: #E8F0FE;\n",
              "      border: none;\n",
              "      border-radius: 50%;\n",
              "      cursor: pointer;\n",
              "      display: none;\n",
              "      fill: #1967D2;\n",
              "      height: 32px;\n",
              "      padding: 0 0 0 0;\n",
              "      width: 32px;\n",
              "    }\n",
              "\n",
              "    .colab-df-convert:hover {\n",
              "      background-color: #E2EBFA;\n",
              "      box-shadow: 0px 1px 2px rgba(60, 64, 67, 0.3), 0px 1px 3px 1px rgba(60, 64, 67, 0.15);\n",
              "      fill: #174EA6;\n",
              "    }\n",
              "\n",
              "    .colab-df-buttons div {\n",
              "      margin-bottom: 4px;\n",
              "    }\n",
              "\n",
              "    [theme=dark] .colab-df-convert {\n",
              "      background-color: #3B4455;\n",
              "      fill: #D2E3FC;\n",
              "    }\n",
              "\n",
              "    [theme=dark] .colab-df-convert:hover {\n",
              "      background-color: #434B5C;\n",
              "      box-shadow: 0px 1px 3px 1px rgba(0, 0, 0, 0.15);\n",
              "      filter: drop-shadow(0px 1px 2px rgba(0, 0, 0, 0.3));\n",
              "      fill: #FFFFFF;\n",
              "    }\n",
              "  </style>\n",
              "\n",
              "    <script>\n",
              "      const buttonEl =\n",
              "        document.querySelector('#df-8210f432-6047-48b6-b7af-62221046d616 button.colab-df-convert');\n",
              "      buttonEl.style.display =\n",
              "        google.colab.kernel.accessAllowed ? 'block' : 'none';\n",
              "\n",
              "      async function convertToInteractive(key) {\n",
              "        const element = document.querySelector('#df-8210f432-6047-48b6-b7af-62221046d616');\n",
              "        const dataTable =\n",
              "          await google.colab.kernel.invokeFunction('convertToInteractive',\n",
              "                                                    [key], {});\n",
              "        if (!dataTable) return;\n",
              "\n",
              "        const docLinkHtml = 'Like what you see? Visit the ' +\n",
              "          '<a target=\"_blank\" href=https://colab.research.google.com/notebooks/data_table.ipynb>data table notebook</a>'\n",
              "          + ' to learn more about interactive tables.';\n",
              "        element.innerHTML = '';\n",
              "        dataTable['output_type'] = 'display_data';\n",
              "        await google.colab.output.renderOutput(dataTable, element);\n",
              "        const docLink = document.createElement('div');\n",
              "        docLink.innerHTML = docLinkHtml;\n",
              "        element.appendChild(docLink);\n",
              "      }\n",
              "    </script>\n",
              "  </div>\n",
              "\n",
              "\n",
              "<div id=\"df-3e46829a-01d5-4946-910c-e6075b6e84ec\">\n",
              "  <button class=\"colab-df-quickchart\" onclick=\"quickchart('df-3e46829a-01d5-4946-910c-e6075b6e84ec')\"\n",
              "            title=\"Suggest charts\"\n",
              "            style=\"display:none;\">\n",
              "\n",
              "<svg xmlns=\"http://www.w3.org/2000/svg\" height=\"24px\"viewBox=\"0 0 24 24\"\n",
              "     width=\"24px\">\n",
              "    <g>\n",
              "        <path d=\"M19 3H5c-1.1 0-2 .9-2 2v14c0 1.1.9 2 2 2h14c1.1 0 2-.9 2-2V5c0-1.1-.9-2-2-2zM9 17H7v-7h2v7zm4 0h-2V7h2v10zm4 0h-2v-4h2v4z\"/>\n",
              "    </g>\n",
              "</svg>\n",
              "  </button>\n",
              "\n",
              "<style>\n",
              "  .colab-df-quickchart {\n",
              "      --bg-color: #E8F0FE;\n",
              "      --fill-color: #1967D2;\n",
              "      --hover-bg-color: #E2EBFA;\n",
              "      --hover-fill-color: #174EA6;\n",
              "      --disabled-fill-color: #AAA;\n",
              "      --disabled-bg-color: #DDD;\n",
              "  }\n",
              "\n",
              "  [theme=dark] .colab-df-quickchart {\n",
              "      --bg-color: #3B4455;\n",
              "      --fill-color: #D2E3FC;\n",
              "      --hover-bg-color: #434B5C;\n",
              "      --hover-fill-color: #FFFFFF;\n",
              "      --disabled-bg-color: #3B4455;\n",
              "      --disabled-fill-color: #666;\n",
              "  }\n",
              "\n",
              "  .colab-df-quickchart {\n",
              "    background-color: var(--bg-color);\n",
              "    border: none;\n",
              "    border-radius: 50%;\n",
              "    cursor: pointer;\n",
              "    display: none;\n",
              "    fill: var(--fill-color);\n",
              "    height: 32px;\n",
              "    padding: 0;\n",
              "    width: 32px;\n",
              "  }\n",
              "\n",
              "  .colab-df-quickchart:hover {\n",
              "    background-color: var(--hover-bg-color);\n",
              "    box-shadow: 0 1px 2px rgba(60, 64, 67, 0.3), 0 1px 3px 1px rgba(60, 64, 67, 0.15);\n",
              "    fill: var(--button-hover-fill-color);\n",
              "  }\n",
              "\n",
              "  .colab-df-quickchart-complete:disabled,\n",
              "  .colab-df-quickchart-complete:disabled:hover {\n",
              "    background-color: var(--disabled-bg-color);\n",
              "    fill: var(--disabled-fill-color);\n",
              "    box-shadow: none;\n",
              "  }\n",
              "\n",
              "  .colab-df-spinner {\n",
              "    border: 2px solid var(--fill-color);\n",
              "    border-color: transparent;\n",
              "    border-bottom-color: var(--fill-color);\n",
              "    animation:\n",
              "      spin 1s steps(1) infinite;\n",
              "  }\n",
              "\n",
              "  @keyframes spin {\n",
              "    0% {\n",
              "      border-color: transparent;\n",
              "      border-bottom-color: var(--fill-color);\n",
              "      border-left-color: var(--fill-color);\n",
              "    }\n",
              "    20% {\n",
              "      border-color: transparent;\n",
              "      border-left-color: var(--fill-color);\n",
              "      border-top-color: var(--fill-color);\n",
              "    }\n",
              "    30% {\n",
              "      border-color: transparent;\n",
              "      border-left-color: var(--fill-color);\n",
              "      border-top-color: var(--fill-color);\n",
              "      border-right-color: var(--fill-color);\n",
              "    }\n",
              "    40% {\n",
              "      border-color: transparent;\n",
              "      border-right-color: var(--fill-color);\n",
              "      border-top-color: var(--fill-color);\n",
              "    }\n",
              "    60% {\n",
              "      border-color: transparent;\n",
              "      border-right-color: var(--fill-color);\n",
              "    }\n",
              "    80% {\n",
              "      border-color: transparent;\n",
              "      border-right-color: var(--fill-color);\n",
              "      border-bottom-color: var(--fill-color);\n",
              "    }\n",
              "    90% {\n",
              "      border-color: transparent;\n",
              "      border-bottom-color: var(--fill-color);\n",
              "    }\n",
              "  }\n",
              "</style>\n",
              "\n",
              "  <script>\n",
              "    async function quickchart(key) {\n",
              "      const quickchartButtonEl =\n",
              "        document.querySelector('#' + key + ' button');\n",
              "      quickchartButtonEl.disabled = true;  // To prevent multiple clicks.\n",
              "      quickchartButtonEl.classList.add('colab-df-spinner');\n",
              "      try {\n",
              "        const charts = await google.colab.kernel.invokeFunction(\n",
              "            'suggestCharts', [key], {});\n",
              "      } catch (error) {\n",
              "        console.error('Error during call to suggestCharts:', error);\n",
              "      }\n",
              "      quickchartButtonEl.classList.remove('colab-df-spinner');\n",
              "      quickchartButtonEl.classList.add('colab-df-quickchart-complete');\n",
              "    }\n",
              "    (() => {\n",
              "      let quickchartButtonEl =\n",
              "        document.querySelector('#df-3e46829a-01d5-4946-910c-e6075b6e84ec button');\n",
              "      quickchartButtonEl.style.display =\n",
              "        google.colab.kernel.accessAllowed ? 'block' : 'none';\n",
              "    })();\n",
              "  </script>\n",
              "</div>\n",
              "\n",
              "    </div>\n",
              "  </div>\n"
            ],
            "application/vnd.google.colaboratory.intrinsic+json": {
              "type": "dataframe",
              "summary": "{\n  \"name\": \"layer_stats[['op_name', 'range', 'rmse/scale']]\",\n  \"rows\": 5,\n  \"fields\": [\n    {\n      \"column\": \"op_name\",\n      \"properties\": {\n        \"dtype\": \"string\",\n        \"num_unique_values\": 5,\n        \"samples\": [\n          \"SUB\",\n          \"DEPTHWISE_CONV_2D\",\n          \"CONV_2D\"\n        ],\n        \"semantic_type\": \"\",\n        \"description\": \"\"\n      }\n    },\n    {\n      \"column\": \"range\",\n      \"properties\": {\n        \"dtype\": \"number\",\n        \"std\": 53.00835659832867,\n        \"min\": 2.0000001899999997,\n        \"max\": 129.73020449999999,\n        \"num_unique_values\": 4,\n        \"samples\": [\n          36.3310128,\n          129.73020449999999,\n          2.0000001899999997\n        ],\n        \"semantic_type\": \"\",\n        \"description\": \"\"\n      }\n    },\n    {\n      \"column\": \"rmse/scale\",\n      \"properties\": {\n        \"dtype\": \"number\",\n        \"std\": 0.09421472024162775,\n        \"min\": 0.27680235624635835,\n        \"max\": 0.5000024315748732,\n        \"num_unique_values\": 5,\n        \"samples\": [\n          0.5000024315748732,\n          0.42140585799359204,\n          0.29159196175531105\n        ],\n        \"semantic_type\": \"\",\n        \"description\": \"\"\n      }\n    }\n  ]\n}"
            }
          },
          "metadata": {},
          "execution_count": 10
        }
      ],
      "source": [
        "layer_stats['range'] = 255.0 * layer_stats['scale']\n",
        "layer_stats['rmse/scale'] = layer_stats.apply(\n",
        "    lambda row: np.sqrt(row['mean_squared_error']) / row['scale'], axis=1)\n",
        "layer_stats[['op_name', 'range', 'rmse/scale']].head()"
      ]
    },
    {
      "cell_type": "code",
      "execution_count": 11,
      "metadata": {
        "id": "oAAv35CdPvc4",
        "colab": {
          "base_uri": "https://localhost:8080/",
          "height": 413
        },
        "outputId": "eab1944c-835c-41c2-8baf-373b0b5d6f06"
      },
      "outputs": [
        {
          "output_type": "display_data",
          "data": {
            "text/plain": [
              "<Figure size 1500x500 with 2 Axes>"
            ],
            "image/png": "[encoded data removed]"
          },
          "metadata": {}
        }
      ],
      "source": [
        "plt.figure(figsize=(15, 5))\n",
        "ax1 = plt.subplot(121)\n",
        "ax1.bar(np.arange(len(layer_stats)), layer_stats['range'])\n",
        "ax1.set_ylabel('range')\n",
        "ax2 = plt.subplot(122)\n",
        "ax2.bar(np.arange(len(layer_stats)), layer_stats['rmse/scale'])\n",
        "ax2.set_ylabel('rmse/scale')\n",
        "plt.show()"
      ]
    },
    {
      "cell_type": "markdown",
      "metadata": {
        "id": "8pqUQvRUWB3Q"
      },
      "source": [
        "There are many layers with wide ranges, and some layers that have high\n",
        "`RMSE/scale` values. Let's get the layers with high error metrics."
      ]
    },
    {
      "cell_type": "code",
      "execution_count": 12,
      "metadata": {
        "id": "UqFsUX4_Q-cE",
        "colab": {
          "base_uri": "https://localhost:8080/",
          "height": 175
        },
        "outputId": "d52b614d-72d8-44a3-f28f-b40e3c765a1c"
      },
      "outputs": [
        {
          "output_type": "execute_result",
          "data": {
            "text/plain": [
              "    op_name     range  rmse/scale  \\\n",
              "32     MEAN  3.300810    0.748280   \n",
              "33  CONV_2D  2.866467    0.764711   \n",
              "55  CONV_2D  0.001957    2.242781   \n",
              "75     MEAN  3.214616    1.028382   \n",
              "\n",
              "                                          tensor_name  \n",
              "32  predict/MobilenetV3/expanded_conv_4/squeeze_ex...  \n",
              "33  predict/MobilenetV3/expanded_conv_4/squeeze_ex...  \n",
              "55  predict/MobilenetV3/expanded_conv_6/squeeze_ex...  \n",
              "75  predict/MobilenetV3/expanded_conv_8/squeeze_ex...  "
            ],
            "text/html": [
              "\n",
              "  <div id=\"df-bb051839-8213-4993-97fe-c196111df1a7\" class=\"colab-df-container\">\n",
              "    <div>\n",
              "<style scoped>\n",
              "    .dataframe tbody tr th:only-of-type {\n",
              "        vertical-align: middle;\n",
              "    }\n",
              "\n",
              "    .dataframe tbody tr th {\n",
              "        vertical-align: top;\n",
              "    }\n",
              "\n",
              "    .dataframe thead th {\n",
              "        text-align: right;\n",
              "    }\n",
              "</style>\n",
              "<table border=\"1\" class=\"dataframe\">\n",
              "  <thead>\n",
              "    <tr style=\"text-align: right;\">\n",
              "      <th></th>\n",
              "      <th>op_name</th>\n",
              "      <th>range</th>\n",
              "      <th>rmse/scale</th>\n",
              "      <th>tensor_name</th>\n",
              "    </tr>\n",
              "  </thead>\n",
              "  <tbody>\n",
              "    <tr>\n",
              "      <th>32</th>\n",
              "      <td>MEAN</td>\n",
              "      <td>3.300810</td>\n",
              "      <td>0.748280</td>\n",
              "      <td>predict/MobilenetV3/expanded_conv_4/squeeze_ex...</td>\n",
              "    </tr>\n",
              "    <tr>\n",
              "      <th>33</th>\n",
              "      <td>CONV_2D</td>\n",
              "      <td>2.866467</td>\n",
              "      <td>0.764711</td>\n",
              "      <td>predict/MobilenetV3/expanded_conv_4/squeeze_ex...</td>\n",
              "    </tr>\n",
              "    <tr>\n",
              "      <th>55</th>\n",
              "      <td>CONV_2D</td>\n",
              "      <td>0.001957</td>\n",
              "      <td>2.242781</td>\n",
              "      <td>predict/MobilenetV3/expanded_conv_6/squeeze_ex...</td>\n",
              "    </tr>\n",
              "    <tr>\n",
              "      <th>75</th>\n",
              "      <td>MEAN</td>\n",
              "      <td>3.214616</td>\n",
              "      <td>1.028382</td>\n",
              "      <td>predict/MobilenetV3/expanded_conv_8/squeeze_ex...</td>\n",
              "    </tr>\n",
              "  </tbody>\n",
              "</table>\n",
              "</div>\n",
              "    <div class=\"colab-df-buttons\">\n",
              "\n",
              "  <div class=\"colab-df-container\">\n",
              "    <button class=\"colab-df-convert\" onclick=\"convertToInteractive('df-bb051839-8213-4993-97fe-c196111df1a7')\"\n",
              "            title=\"Convert this dataframe to an interactive table.\"\n",
              "            style=\"display:none;\">\n",
              "\n",
              "  <svg xmlns=\"http://www.w3.org/2000/svg\" height=\"24px\" viewBox=\"0 -960 960 960\">\n",
              "    <path d=\"M120-120v-720h720v720H120Zm60-500h600v-160H180v160Zm220 220h160v-160H400v160Zm0 220h160v-160H400v160ZM180-400h160v-160H180v160Zm440 0h160v-160H620v160ZM180-180h160v-160H180v160Zm440 0h160v-160H620v160Z\"/>\n",
              "  </svg>\n",
              "    </button>\n",
              "\n",
              "  <style>\n",
              "    .colab-df-container {\n",
              "      display:flex;\n",
              "      gap: 12px;\n",
              "    }\n",
              "\n",
              "    .colab-df-convert {\n",
              "      background-color: #E8F0FE;\n",
              "      border: none;\n",
              "      border-radius: 50%;\n",
              "      cursor: pointer;\n",
              "      display: none;\n",
              "      fill: #1967D2;\n",
              "      height: 32px;\n",
              "      padding: 0 0 0 0;\n",
              "      width: 32px;\n",
              "    }\n",
              "\n",
              "    .colab-df-convert:hover {\n",
              "      background-color: #E2EBFA;\n",
              "      box-shadow: 0px 1px 2px rgba(60, 64, 67, 0.3), 0px 1px 3px 1px rgba(60, 64, 67, 0.15);\n",
              "      fill: #174EA6;\n",
              "    }\n",
              "\n",
              "    .colab-df-buttons div {\n",
              "      margin-bottom: 4px;\n",
              "    }\n",
              "\n",
              "    [theme=dark] .colab-df-convert {\n",
              "      background-color: #3B4455;\n",
              "      fill: #D2E3FC;\n",
              "    }\n",
              "\n",
              "    [theme=dark] .colab-df-convert:hover {\n",
              "      background-color: #434B5C;\n",
              "      box-shadow: 0px 1px 3px 1px rgba(0, 0, 0, 0.15);\n",
              "      filter: drop-shadow(0px 1px 2px rgba(0, 0, 0, 0.3));\n",
              "      fill: #FFFFFF;\n",
              "    }\n",
              "  </style>\n",
              "\n",
              "    <script>\n",
              "      const buttonEl =\n",
              "        document.querySelector('#df-bb051839-8213-4993-97fe-c196111df1a7 button.colab-df-convert');\n",
              "      buttonEl.style.display =\n",
              "        google.colab.kernel.accessAllowed ? 'block' : 'none';\n",
              "\n",
              "      async function convertToInteractive(key) {\n",
              "        const element = document.querySelector('#df-bb051839-8213-4993-97fe-c196111df1a7');\n",
              "        const dataTable =\n",
              "          await google.colab.kernel.invokeFunction('convertToInteractive',\n",
              "                                                    [key], {});\n",
              "        if (!dataTable) return;\n",
              "\n",
              "        const docLinkHtml = 'Like what you see? Visit the ' +\n",
              "          '<a target=\"_blank\" href=https://colab.research.google.com/notebooks/data_table.ipynb>data table notebook</a>'\n",
              "          + ' to learn more about interactive tables.';\n",
              "        element.innerHTML = '';\n",
              "        dataTable['output_type'] = 'display_data';\n",
              "        await google.colab.output.renderOutput(dataTable, element);\n",
              "        const docLink = document.createElement('div');\n",
              "        docLink.innerHTML = docLinkHtml;\n",
              "        element.appendChild(docLink);\n",
              "      }\n",
              "    </script>\n",
              "  </div>\n",
              "\n",
              "\n",
              "<div id=\"df-075c7a5f-50fb-4cbd-906f-c485306dbf87\">\n",
              "  <button class=\"colab-df-quickchart\" onclick=\"quickchart('df-075c7a5f-50fb-4cbd-906f-c485306dbf87')\"\n",
              "            title=\"Suggest charts\"\n",
              "            style=\"display:none;\">\n",
              "\n",
              "<svg xmlns=\"http://www.w3.org/2000/svg\" height=\"24px\"viewBox=\"0 0 24 24\"\n",
              "     width=\"24px\">\n",
              "    <g>\n",
              "        <path d=\"M19 3H5c-1.1 0-2 .9-2 2v14c0 1.1.9 2 2 2h14c1.1 0 2-.9 2-2V5c0-1.1-.9-2-2-2zM9 17H7v-7h2v7zm4 0h-2V7h2v10zm4 0h-2v-4h2v4z\"/>\n",
              "    </g>\n",
              "</svg>\n",
              "  </button>\n",
              "\n",
              "<style>\n",
              "  .colab-df-quickchart {\n",
              "      --bg-color: #E8F0FE;\n",
              "      --fill-color: #1967D2;\n",
              "      --hover-bg-color: #E2EBFA;\n",
              "      --hover-fill-color: #174EA6;\n",
              "      --disabled-fill-color: #AAA;\n",
              "      --disabled-bg-color: #DDD;\n",
              "  }\n",
              "\n",
              "  [theme=dark] .colab-df-quickchart {\n",
              "      --bg-color: #3B4455;\n",
              "      --fill-color: #D2E3FC;\n",
              "      --hover-bg-color: #434B5C;\n",
              "      --hover-fill-color: #FFFFFF;\n",
              "      --disabled-bg-color: #3B4455;\n",
              "      --disabled-fill-color: #666;\n",
              "  }\n",
              "\n",
              "  .colab-df-quickchart {\n",
              "    background-color: var(--bg-color);\n",
              "    border: none;\n",
              "    border-radius: 50%;\n",
              "    cursor: pointer;\n",
              "    display: none;\n",
              "    fill: var(--fill-color);\n",
              "    height: 32px;\n",
              "    padding: 0;\n",
              "    width: 32px;\n",
              "  }\n",
              "\n",
              "  .colab-df-quickchart:hover {\n",
              "    background-color: var(--hover-bg-color);\n",
              "    box-shadow: 0 1px 2px rgba(60, 64, 67, 0.3), 0 1px 3px 1px rgba(60, 64, 67, 0.15);\n",
              "    fill: var(--button-hover-fill-color);\n",
              "  }\n",
              "\n",
              "  .colab-df-quickchart-complete:disabled,\n",
              "  .colab-df-quickchart-complete:disabled:hover {\n",
              "    background-color: var(--disabled-bg-color);\n",
              "    fill: var(--disabled-fill-color);\n",
              "    box-shadow: none;\n",
              "  }\n",
              "\n",
              "  .colab-df-spinner {\n",
              "    border: 2px solid var(--fill-color);\n",
              "    border-color: transparent;\n",
              "    border-bottom-color: var(--fill-color);\n",
              "    animation:\n",
              "      spin 1s steps(1) infinite;\n",
              "  }\n",
              "\n",
              "  @keyframes spin {\n",
              "    0% {\n",
              "      border-color: transparent;\n",
              "      border-bottom-color: var(--fill-color);\n",
              "      border-left-color: var(--fill-color);\n",
              "    }\n",
              "    20% {\n",
              "      border-color: transparent;\n",
              "      border-left-color: var(--fill-color);\n",
              "      border-top-color: var(--fill-color);\n",
              "    }\n",
              "    30% {\n",
              "      border-color: transparent;\n",
              "      border-left-color: var(--fill-color);\n",
              "      border-top-color: var(--fill-color);\n",
              "      border-right-color: var(--fill-color);\n",
              "    }\n",
              "    40% {\n",
              "      border-color: transparent;\n",
              "      border-right-color: var(--fill-color);\n",
              "      border-top-color: var(--fill-color);\n",
              "    }\n",
              "    60% {\n",
              "      border-color: transparent;\n",
              "      border-right-color: var(--fill-color);\n",
              "    }\n",
              "    80% {\n",
              "      border-color: transparent;\n",
              "      border-right-color: var(--fill-color);\n",
              "      border-bottom-color: var(--fill-color);\n",
              "    }\n",
              "    90% {\n",
              "      border-color: transparent;\n",
              "      border-bottom-color: var(--fill-color);\n",
              "    }\n",
              "  }\n",
              "</style>\n",
              "\n",
              "  <script>\n",
              "    async function quickchart(key) {\n",
              "      const quickchartButtonEl =\n",
              "        document.querySelector('#' + key + ' button');\n",
              "      quickchartButtonEl.disabled = true;  // To prevent multiple clicks.\n",
              "      quickchartButtonEl.classList.add('colab-df-spinner');\n",
              "      try {\n",
              "        const charts = await google.colab.kernel.invokeFunction(\n",
              "            'suggestCharts', [key], {});\n",
              "      } catch (error) {\n",
              "        console.error('Error during call to suggestCharts:', error);\n",
              "      }\n",
              "      quickchartButtonEl.classList.remove('colab-df-spinner');\n",
              "      quickchartButtonEl.classList.add('colab-df-quickchart-complete');\n",
              "    }\n",
              "    (() => {\n",
              "      let quickchartButtonEl =\n",
              "        document.querySelector('#df-075c7a5f-50fb-4cbd-906f-c485306dbf87 button');\n",
              "      quickchartButtonEl.style.display =\n",
              "        google.colab.kernel.accessAllowed ? 'block' : 'none';\n",
              "    })();\n",
              "  </script>\n",
              "</div>\n",
              "\n",
              "    </div>\n",
              "  </div>\n"
            ],
            "application/vnd.google.colaboratory.intrinsic+json": {
              "type": "dataframe",
              "summary": "{\n  \"name\": \"]]\",\n  \"rows\": 4,\n  \"fields\": [\n    {\n      \"column\": \"op_name\",\n      \"properties\": {\n        \"dtype\": \"string\",\n        \"num_unique_values\": 2,\n        \"samples\": [\n          \"CONV_2D\",\n          \"MEAN\"\n        ],\n        \"semantic_type\": \"\",\n        \"description\": \"\"\n      }\n    },\n    {\n      \"column\": \"range\",\n      \"properties\": {\n        \"dtype\": \"number\",\n        \"std\": 1.5739101326811225,\n        \"min\": 0.001956999285,\n        \"max\": 3.30080976,\n        \"num_unique_values\": 4,\n        \"samples\": [\n          2.8664674949999998,\n          3.2146159350000003\n        ],\n        \"semantic_type\": \"\",\n        \"description\": \"\"\n      }\n    },\n    {\n      \"column\": \"rmse/scale\",\n      \"properties\": {\n        \"dtype\": \"number\",\n        \"std\": 0.7095324111535625,\n        \"min\": 0.7482804966123212,\n        \"max\": 2.242780569898244,\n        \"num_unique_values\": 4,\n        \"samples\": [\n          0.7647105315691548,\n          1.0283819445392735\n        ],\n        \"semantic_type\": \"\",\n        \"description\": \"\"\n      }\n    },\n    {\n      \"column\": \"tensor_name\",\n      \"properties\": {\n        \"dtype\": \"string\",\n        \"num_unique_values\": 4,\n        \"samples\": [\n          \"predict/MobilenetV3/expanded_conv_4/squeeze_excite/Conv/Relu;predict/MobilenetV3/expanded_conv_4/squeeze_excite/Conv/Relu;predict/MobilenetV3/expanded_conv_4/squeeze_excite/Conv/BiasAdd;predict/MobilenetV3/expanded_conv_4/squeeze_excite/Conv/BiasAdd;predict/MobilenetV3/expanded_conv_5/squeeze_excite/Conv/Conv2D;predict/MobilenetV3/expanded_conv_5/squeeze_excite/Conv/Conv2D;predict/MobilenetV3/expanded_conv_4/squeeze_excite/Conv/Conv2D;predict/MobilenetV3/expanded_conv_4/squeeze_excite/Conv/Conv2D;predict/MobilenetV3/expanded_conv_4/squeeze_excite/Conv/BiasAdd/ReadVariableOp;predict/MobilenetV3/expanded_conv_4/squeeze_excite/Conv/BiasAdd/ReadVariableOp\",\n          \"predict/MobilenetV3/expanded_conv_8/squeeze_excite/Mean;predict/MobilenetV3/expanded_conv_8/squeeze_excite/Mean\"\n        ],\n        \"semantic_type\": \"\",\n        \"description\": \"\"\n      }\n    }\n  ]\n}"
            }
          },
          "metadata": {},
          "execution_count": 12
        }
      ],
      "source": [
        "layer_stats[layer_stats['rmse/scale'] > 0.7][[\n",
        "    'op_name', 'range', 'rmse/scale', 'tensor_name'\n",
        "]]"
      ]
    },
    {
      "cell_type": "markdown",
      "metadata": {
        "id": "DHeALFTGWl_e"
      },
      "source": [
        "With these layers, you can try selective quantization to see if not quantizing\n",
        "those layers improves model quality."
      ]
    },
    {
      "cell_type": "code",
      "execution_count": 13,
      "metadata": {
        "id": "cvdkjsbwYC6e"
      },
      "outputs": [],
      "source": [
        "suspected_layers = list(\n",
        "    layer_stats[layer_stats['rmse/scale'] > 0.7]['tensor_name'])"
      ]
    },
    {
      "cell_type": "markdown",
      "metadata": {
        "id": "W6RQw9JobOTR"
      },
      "source": [
        "In addition to these, skipping quantization for the first few layers also helps\n",
        "improving quantized model's quality."
      ]
    },
    {
      "cell_type": "code",
      "execution_count": 14,
      "metadata": {
        "id": "ikF2bp6NZcXN"
      },
      "outputs": [],
      "source": [
        "suspected_layers.extend(list(layer_stats[:5]['tensor_name']))"
      ]
    },
    {
      "cell_type": "markdown",
      "metadata": {
        "id": "1DfT78w6W6Li"
      },
      "source": [
        "## Selective Quantization"
      ]
    },
    {
      "cell_type": "markdown",
      "metadata": {
        "id": "-pubC-01cGEH"
      },
      "source": [
        "Selective quantization skips quantization for some nodes, so that the\n",
        "calculation can happen in the original floating-point domain. When correct\n",
        "layers are skipped, we can expect some model quality recovery at the cost of\n",
        "increased latency and model size.\n",
        "\n",
        "However, if you're planning to run quantized models on integer-only accelerators\n",
        "(e.g. Hexagon DSP, EdgeTPU), selective quantization would cause fragmentation of\n",
        "the model and would result in slower inference latency mainly caused by data\n",
        "transfer cost between CPU and those accelerators. To prevent this, you can\n",
        "consider running\n",
        "[quantization aware training](https://www.tensorflow.org/model_optimization/guide/quantization/training)\n",
        "to keep all the layers in integer while preserving the model accuracy."
      ]
    },
    {
      "cell_type": "markdown",
      "metadata": {
        "id": "EQFBfR7YW-oh"
      },
      "source": [
        "Quantization debugger's option accepts `denylisted_nodes` and `denylisted_ops`\n",
        "options for skipping quantization for specific layers, or all instances of\n",
        "specific ops. Using `suspected_layers` we prepared from the previous step, we\n",
        "can use quantization debugger to get a selectively quantized model."
      ]
    },
    {
      "cell_type": "code",
      "execution_count": null,
      "metadata": {
        "id": "K5KD0JAEbpsv"
      },
      "outputs": [],
      "source": [
        "debug_options = tf.lite.experimental.QuantizationDebugOptions(\n",
        "    denylisted_nodes=suspected_layers)\n",
        "debugger = tf.lite.experimental.QuantizationDebugger(\n",
        "    converter=converter,\n",
        "    debug_dataset=representative_dataset(ds),\n",
        "    debug_options=debug_options)"
      ]
    },
    {
      "cell_type": "code",
      "execution_count": null,
      "metadata": {
        "id": "pfj9gzv4b7h4"
      },
      "outputs": [],
      "source": [
        "selective_quantized_model = debugger.get_nondebug_quantized_model()\n",
        "eval_tflite(selective_quantized_model, ds)"
      ]
    },
    {
      "cell_type": "markdown",
      "metadata": {
        "id": "1RkfMYSHdtZy"
      },
      "source": [
        "The accuracy is still lower compared to the original float model, but we have\n",
        "notable improvement from the whole quantized model by skipping quantization for\n",
        "~10 layers out of 111 layers.\n",
        "\n",
        "You can also try to not quantized all ops in the same class. For example, to\n",
        "skip quantization for all mean ops, you can pass `MEAN` to `denylisted_ops`."
      ]
    },
    {
      "cell_type": "code",
      "execution_count": null,
      "metadata": {
        "id": "ruUoP7SgcLpO"
      },
      "outputs": [],
      "source": [
        "debug_options = tf.lite.experimental.QuantizationDebugOptions(\n",
        "    denylisted_ops=['MEAN'])\n",
        "debugger = tf.lite.experimental.QuantizationDebugger(\n",
        "    converter=converter,\n",
        "    debug_dataset=representative_dataset(ds),\n",
        "    debug_options=debug_options)"
      ]
    },
    {
      "cell_type": "code",
      "execution_count": null,
      "metadata": {
        "id": "oY6kb5g_cO4H"
      },
      "outputs": [],
      "source": [
        "selective_quantized_model = debugger.get_nondebug_quantized_model()\n",
        "eval_tflite(selective_quantized_model, ds)"
      ]
    },
    {
      "cell_type": "markdown",
      "metadata": {
        "id": "xa8488TeAyx-"
      },
      "source": [
        "With these techniques, we are able to improve the quantized MobileNet V3 model\n",
        "accuracy. Next we'll explore advanced techniques to improve the model accuracy\n",
        "even more."
      ]
    },
    {
      "cell_type": "markdown",
      "metadata": {
        "id": "ZD75cY9PUb2u"
      },
      "source": [
        "## Advanced usages\n",
        "\n",
        "Whith following features, you can further customize your debugging pipeline."
      ]
    },
    {
      "cell_type": "markdown",
      "metadata": {
        "id": "aVj9yrQoUfGo"
      },
      "source": [
        "### Custom metrics\n",
        "\n",
        "By default, the quantization debugger emits five metrics for each float-quant\n",
        "difference: tensor size, standard deviation, mean error, max absolute error, and\n",
        "mean squared error. You can add more custom metrics by passing them to options.\n",
        "For each metrics, the result should be a single float value and the resulting\n",
        "metric will be an average of metrics from all examples.\n",
        "\n",
        "*   `layer_debug_metrics`: calculate metric based on diff for each op outputs\n",
        "    from float and quantized op outputs.\n",
        "*   `layer_direct_compare_metrics`: rather than getting diff only, this will\n",
        "    calculate metric based on raw float and quantized tensors, and its\n",
        "    quantization parameters (scale, zero point)\n",
        "*   `model_debug_metrics`: **only used when `float_model_(path|content)` is\n",
        "    passed** to the debugger. In addition to the op-level metrics, final layer\n",
        "    output is compared to the reference output from the original float model."
      ]
    },
    {
      "cell_type": "code",
      "execution_count": null,
      "metadata": {
        "id": "WqmRQSxoVVwu"
      },
      "outputs": [],
      "source": [
        "debug_options = tf.lite.experimental.QuantizationDebugOptions(\n",
        "    layer_debug_metrics={\n",
        "        'mean_abs_error': (lambda diff: np.mean(np.abs(diff)))\n",
        "    },\n",
        "    layer_direct_compare_metrics={\n",
        "        'correlation':\n",
        "            lambda f, q, s, zp: (np.corrcoef(f.flatten(),\n",
        "                                             (q.flatten() - zp) / s)[0, 1])\n",
        "    },\n",
        "    model_debug_metrics={\n",
        "        'argmax_accuracy': (lambda f, q: np.mean(np.argmax(f) == np.argmax(q)))\n",
        "    })\n",
        "\n",
        "debugger = tf.lite.experimental.QuantizationDebugger(\n",
        "    converter=converter,\n",
        "    debug_dataset=representative_dataset(ds),\n",
        "    debug_options=debug_options)"
      ]
    },
    {
      "cell_type": "code",
      "execution_count": null,
      "metadata": {
        "id": "PVQ4nEicXz2l"
      },
      "outputs": [],
      "source": [
        "debugger.run()"
      ]
    },
    {
      "cell_type": "code",
      "execution_count": null,
      "metadata": {
        "id": "dfKA90csX9UL"
      },
      "outputs": [],
      "source": [
        "CUSTOM_RESULTS_FILE = '/tmp/debugger_results.csv'\n",
        "with open(CUSTOM_RESULTS_FILE, 'w') as f:\n",
        "  debugger.layer_statistics_dump(f)\n",
        "\n",
        "custom_layer_stats = pd.read_csv(CUSTOM_RESULTS_FILE)\n",
        "custom_layer_stats[['op_name', 'mean_abs_error', 'correlation']].tail()"
      ]
    },
    {
      "cell_type": "markdown",
      "metadata": {
        "id": "Qqq30oWsZF5b"
      },
      "source": [
        "The result of `model_debug_metrics` can be separately seen from\n",
        "`debugger.model_statistics`."
      ]
    },
    {
      "cell_type": "code",
      "execution_count": null,
      "metadata": {
        "id": "wrXlmzEHYhQ5"
      },
      "outputs": [],
      "source": [
        "debugger.model_statistics"
      ]
    },
    {
      "cell_type": "markdown",
      "metadata": {
        "id": "DqJBLIsoUyIg"
      },
      "source": [
        "### Using (internal) mlir_quantize API to access in-depth features\n",
        "\n",
        "Note: Some features in the folowing section,\n",
        "`TFLiteConverter._experimental_calibrate_only` and `converter.mlir_quantize` are\n",
        "experimental internal APIs, and subject to change in a non-backward compatible\n",
        "way."
      ]
    },
    {
      "cell_type": "code",
      "execution_count": null,
      "metadata": {
        "id": "VJm66Cz-XpeF"
      },
      "outputs": [],
      "source": [
        "from tensorflow.lite.python import convert"
      ]
    },
    {
      "cell_type": "markdown",
      "metadata": {
        "id": "2krUVzpiUp3u"
      },
      "source": [
        "#### Whole model verify mode\n",
        "\n",
        "The default behavior for the debug model generation is per-layer verify. In this\n",
        "mode, the input for float and quantize op pair is from the same source (previous\n",
        "quantized op). Another mode is whole-model verify, where the float and quantize\n",
        "models are separated. This mode would be useful to observe how the error is\n",
        "being propagated down the model. To enable, `enable_whole_model_verify=True` to\n",
        "`convert.mlir_quantize` while generating the debug model manually."
      ]
    },
    {
      "cell_type": "code",
      "execution_count": null,
      "metadata": {
        "id": "5zykINDlVLSg"
      },
      "outputs": [],
      "source": [
        "converter = tf.lite.TFLiteConverter.from_keras_model(model)\n",
        "converter.representative_dataset = representative_dataset(ds)\n",
        "converter.optimizations = [tf.lite.Optimize.DEFAULT]\n",
        "converter._experimental_calibrate_only = True\n",
        "calibrated_model = converter.convert()"
      ]
    },
    {
      "cell_type": "code",
      "execution_count": null,
      "metadata": {
        "id": "eqvXlEiFXfSu"
      },
      "outputs": [],
      "source": [
        "# Note that enable_numeric_verify and enable_whole_model_verify are set.\n",
        "quantized_model = convert.mlir_quantize(\n",
        "    calibrated_model,\n",
        "    enable_numeric_verify=True,\n",
        "    enable_whole_model_verify=True)\n",
        "debugger = tf.lite.experimental.QuantizationDebugger(\n",
        "    quant_debug_model_content=quantized_model,\n",
        "    debug_dataset=representative_dataset(ds))"
      ]
    },
    {
      "cell_type": "markdown",
      "metadata": {
        "id": "xQ6TFsXQVHMe"
      },
      "source": [
        "#### Selective quantization from an already calibrated model\n",
        "\n",
        "You can directly call `convert.mlir_quantize` to get the selective quantized\n",
        "model from already calibrated model. This would be particularly useful when you\n",
        "want to calibrate the model once, and experiment with various denylist\n",
        "combinations."
      ]
    },
    {
      "cell_type": "code",
      "execution_count": null,
      "metadata": {
        "id": "ZCS-Fa9lbdc0"
      },
      "outputs": [],
      "source": [
        "selective_quantized_model = convert.mlir_quantize(\n",
        "    calibrated_model, denylisted_nodes=suspected_layers)\n",
        "eval_tflite(selective_quantized_model, ds)"
      ]
    }
  ],
  "metadata": {
    "colab": {
      "collapsed_sections": [
        "Eq_8T2oauIED"
      ],
      "name": "quantization_debugger.ipynb",
      "provenance": []
    },
    "kernelspec": {
      "display_name": "Python 3",
      "name": "python3"
    }
  },
  "nbformat": 4,
  "nbformat_minor": 0
}